{
 "cells": [
  {
   "cell_type": "markdown",
   "id": "7e9ff61b",
   "metadata": {},
   "source": [
    "Laura Boltà Ballesteros, NIU: 1705130\n",
    "\n",
    "## __Lab 1: Correlation Attacks in Stream Ciphers__\n",
    "---"
   ]
  },
  {
   "cell_type": "markdown",
   "id": "47003a3f",
   "metadata": {},
   "source": [
    "### __Exercise 1: Find potential correlations__\n",
    "We want to analyze our stream cipher looking for possible vulnerabilities. Determine whether there is a correlation between the individual outputs of the LFSRs and the keystream. That is, determine if there is a correlation between any of the LFSRs separately and the keystream.\n",
    "\n",
    "__(a) Explain how you find these possible correlations analytically.__"
   ]
  },
  {
   "cell_type": "markdown",
   "id": "d101d935",
   "metadata": {},
   "source": [
    "Idea: Try to attack each one separately,the lab says about finding correlation between the key of each one and they key stream.\n",
    "First we could see to waht extent k1 is equal to the keystream, so if i have all 1s in the lfsr1 and compare it to the output of the keystream we can see how many of them are equal.\n",
    "You do it multiple times and then you check on average how many bits are equal (degree of correlation).\n",
    "\n",
    "A better way without having to test anything would be to:\n",
    "We want to check the correlation between lfsr3 with they keystream. Check the prpobability of having the output s be equal to x3. which we should be able to get by the equation s(t).\n",
    "- s = x2 if x1=1\n",
    "- s = x3 if x1=0\n",
    "The output will be equal to x3 half of the time, but with this we don't have enough, there might be some times where when x1=1 we will still get x3.\n",
    "We need to make a table (truth table) and see in which cases the output will be equal to x3, which after computing the table we see that it is \n",
    "P(A U B)=P(A)+P(B)-(A disj B)\n",
    "If x1 is 0: P(x1=0)*P(s=x3|x1=0)+p(x1=1)*P(s=x3|x1=1)= 0.5*1+0.5P(x2=x3)=0.5*1+0.5*0.5=3/4 --> Probaboloty of the output being equal to x3, which means that more than half of the times the output will be equal to x3. Which means that there is a correlation between the key from the LFSR3 and the keystream. Now we need to check for the other ones.\n",
    "LFSR2: P(s=x2)=P(x1=1)*1+P(x1=0)*0.5=0.5*1+0.5*0.5=3/4\n",
    "LFSR1: P(s=x1)=P(x1=1)*P(x1=x2)+P(x1=0)*P(x1=x3)=0.5*0.5+0.5*0.5=0.5 which means that there is no correlation between the key2 and the keystream, which means that it is completely random. \n",
    "We can attack 2 and 3 because we know that most of the times the bit form hte keystream will be equal to the key from the LFSR.\n",
    "\n",
    "You can also do it by checking the truth table:\n",
    "s=x1 --> 0.5(4/8)\n",
    "s=x2 --> 6/8 = 3/4\n",
    "s=x3 --> 6/8 = 3/4\n",
    "\n"
   ]
  },
  {
   "cell_type": "markdown",
   "id": "888d0be0",
   "metadata": {},
   "source": [
    "__(b) Explain how you validate them empirically.__"
   ]
  },
  {
   "cell_type": "markdown",
   "id": "8f8d975c",
   "metadata": {},
   "source": [
    "__(c) Provide or identify the code used to do it.__"
   ]
  },
  {
   "cell_type": "markdown",
   "id": "66e0a01d",
   "metadata": {},
   "source": [
    "---"
   ]
  },
  {
   "cell_type": "markdown",
   "id": "ecf1d067",
   "metadata": {},
   "source": [
    "### __Exercise 2: Recover the keystream of the known ciphertext__\n",
    "\n",
    "Attempt to reconstruct the maximal portion of the keystream employed to encrypt `NN-known-ciphertext.txt`.\n",
    "\n",
    "__(a) Explain how you recovered the keystream.__"
   ]
  },
  {
   "cell_type": "markdown",
   "id": "12739b60",
   "metadata": {},
   "source": [
    "__(b) Provide or identify the code used to do it.__"
   ]
  },
  {
   "cell_type": "markdown",
   "id": "1875c079",
   "metadata": {},
   "source": [
    "---"
   ]
  },
  {
   "cell_type": "markdown",
   "id": "25e4c516",
   "metadata": {},
   "source": [
    "### __Exercise 3: Find the initial state of a correlated LFSR__\n",
    "\n",
    "If an LFSR output is correlated with the keystream, find its initial state.\n",
    "\n",
    "__(a) Explain how you find such an initial state and show the result.__"
   ]
  },
  {
   "cell_type": "markdown",
   "id": "7b7e8938",
   "metadata": {},
   "source": [
    "__(b) How many bits from the keystream did you use? What are the implications of using more or less bits from the keystream to find such correlations?__"
   ]
  },
  {
   "cell_type": "markdown",
   "id": "e52e0b30",
   "metadata": {},
   "source": [
    "__(c) Provide or identify the code used to do it.__"
   ]
  },
  {
   "cell_type": "markdown",
   "id": "3b951979",
   "metadata": {},
   "source": [
    "---"
   ]
  },
  {
   "cell_type": "markdown",
   "id": "159e9049",
   "metadata": {},
   "source": [
    "### __Exercise 4: Define a strategy for a non-correlated LFSR__\n",
    "\n",
    "If an LFSR’s output is not correlated to the keystream, define how you can find its initial state.\n",
    "This strategy should improve on a brute-force search by leveraging the information obtained from correlated LFSR(s).\n",
    "\n",
    "__(a) Explain how you can find the initial state for the LFSR(s) that are not correlated.__\n"
   ]
  },
  {
   "cell_type": "markdown",
   "id": "628f75af",
   "metadata": {},
   "source": [
    "---"
   ]
  },
  {
   "cell_type": "markdown",
   "id": "c86e5bb4",
   "metadata": {},
   "source": [
    "### __Exercise 5: Find the key__\n",
    "\n",
    "Find the key of the stream cipher.\n",
    "\n",
    "__(a) Find the key for the stream cipher using the previous results and strategies.__\n"
   ]
  },
  {
   "cell_type": "markdown",
   "id": "eb188d54",
   "metadata": {},
   "source": [
    "__(b) Provide or identify the code used to do it.__"
   ]
  },
  {
   "cell_type": "markdown",
   "id": "fc30fd13",
   "metadata": {},
   "source": [
    "__(c) Give an estimate of the computation time required to find it.__"
   ]
  },
  {
   "cell_type": "markdown",
   "id": "27c7ea5b",
   "metadata": {},
   "source": [
    "### __Exercise 6: Decrypt the secret message__\n",
    "\n",
    "Decrypt the secret message NN-secret-ciphertext.txt. with the key obtained earlier. Success or failure should be obvious.\n",
    "\n",
    "__(a) Retrieve and show the secret message.__\n"
   ]
  }
 ],
 "metadata": {
  "language_info": {
   "name": "python"
  }
 },
 "nbformat": 4,
 "nbformat_minor": 5
}
