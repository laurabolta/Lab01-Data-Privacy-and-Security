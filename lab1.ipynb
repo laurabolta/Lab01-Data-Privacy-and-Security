{
 "cells": [
  {
   "cell_type": "markdown",
   "id": "7e9ff61b",
   "metadata": {},
   "source": [
    "Laura Boltà Ballesteros, NIU: 1705130\n",
    "\n",
    "## __Lab 1: Correlation Attacks in Stream Ciphers__\n",
    "---"
   ]
  },
  {
   "cell_type": "code",
   "execution_count": 1,
   "id": "5a7f0a5b",
   "metadata": {},
   "outputs": [],
   "source": [
    "import scipher\n",
    "plaintext = scipher.read_string_from_file(\"07-known-plaintext.txt\")\n",
    "ciphertext = scipher.read_string_from_file(\"07-known-ciphertext.txt\")\n",
    "secret_ciphertext = scipher.read_string_from_file(\"07-secret-ciphertext.txt\")"
   ]
  },
  {
   "cell_type": "markdown",
   "id": "47003a3f",
   "metadata": {},
   "source": [
    "### __Exercise 1: Find potential correlations__\n",
    "We want to analyze our stream cipher looking for possible vulnerabilities. Determine whether there is a correlation between the individual outputs of the LFSRs and the keystream. That is, determine if there is a correlation between any of the LFSRs separately and the keystream.\n",
    "\n",
    "__(a) Explain how you find these possible correlations analytically.__"
   ]
  },
  {
   "cell_type": "markdown",
   "id": "a8972956",
   "metadata": {},
   "source": [
    "> There are several ways to find the possible correlations between the individual outputs of the LFSRs and the keystream.\n",
    ">\n",
    "> From the given equation $s(t)=(x_1(t) ∧ x_2(t)) ⊕ (¬x_1(t) ∧ x_3(t))$ we can deduce that:\n",
    "> - When $x_1=1$, $s=x_2$\n",
    "> - When $x_1=0$, $s=x_3$\n",
    ">\n",
    "> Thus, the output $s(t)$ will depend on $x_2$ half of the time and on $x_3$ the other half.\n",
    "> To verify whether these inputs are correlated with the output, we analyze the truth table: \n",
    ">\n",
    "> | $x_1$ | $x_2$ | $x_3$ | ($x_1 ∧ x_2$) | ($x_1 ∧ x_3$) | $s(t)$ |\n",
    "> |----|----|----|------------|-------------|------|\n",
    "> | 0  | 0  | 0  | 0          | 0           | 0    |\n",
    "> | 0  | 0  | 1  | 0          | 1           | 1    |\n",
    "> | 0  | 1  | 0  | 0          | 0           | 0    |\n",
    "> | 0  | 1  | 1  | 0          | 1           | 1    |\n",
    "> | 1  | 0  | 0  | 0          | 0           | 0    |\n",
    "> | 1  | 0  | 1  | 0          | 0           | 0    |\n",
    "> | 1  | 1  | 0  | 1          | 0           | 1    |\n",
    "> | 1  | 1  | 1  | 1          | 0           | 1    |\n",
    ">\n",
    "> From this can also deduce that:\n",
    ">\n",
    "> - $s = x_1 \\Rightarrow \\frac{1}{2}$\n",
    ">\n",
    "> - $s = x_2 \\Rightarrow \\frac{3}{4}$\n",
    ">\n",
    "> - $s = x_3 \\Rightarrow \\frac{3}{4}$\n",
    ">\n",
    "> After deducing, we know that more than half of the times the output will be $x_2$. We also know that the same happens for $x_3$. So, we can conlude that for LFSR2 and LFSR3, the keystream equals their output 75% of the time, meaning there is correlation between them and the keystream.\n",
    ">\n",
    "> For LFSR1, the probability is exactly $\\frac{1}{2}$, meaning it is not correlated (it is random).\n",
    ">\n",
    "> So, LFSR2 and LFSR3 are correlated with the keystream and can be potential points of attack, while LFSR1 shows no exploitable correlation."
   ]
  },
  {
   "cell_type": "markdown",
   "id": "888d0be0",
   "metadata": {},
   "source": [
    "__(b) Explain how you validate them empirically.__"
   ]
  },
  {
   "cell_type": "markdown",
   "id": "ee47250b",
   "metadata": {},
   "source": [
    "> To empirically validate it we could:\n",
    ">\n",
    "> 1. Generate random bit sequences for $x_1$, $x_2$, and $x_3$.\n",
    ">\n",
    "> 2. For each time step, compute $s(t)=(x_1∧x_2) ⊕ (¬x_1∧x_3)$.\n",
    ">\n",
    "> 3. Compare $s$ with each input, and keep track of whether $s=x_1, s=x_2, s=x_3$.\n",
    ">\n",
    "> 4. Over many samples, compute the match rate for each ($\\frac{matches}{number of time steps}$) and check if they are close to the analytical values we got ($\\frac{1}{2}$ for $x_1$ and $\\frac{3}{4}$ for $x_2$ and $x_3$)."
   ]
  },
  {
   "cell_type": "markdown",
   "id": "8f8d975c",
   "metadata": {},
   "source": [
    "__(c) Provide or identify the code used to do it.__"
   ]
  },
  {
   "cell_type": "code",
   "execution_count": 2,
   "id": "754db88c",
   "metadata": {},
   "outputs": [
    {
     "name": "stdout",
     "output_type": "stream",
     "text": [
      "0.47531 0.76775 0.7346\n"
     ]
    }
   ],
   "source": [
    "from scipher import Cipher\n",
    "import random\n",
    "def rand_nonzero_bits(n):\n",
    "    rand_bit_seq = []\n",
    "    for _ in range(n):\n",
    "        rand_bit_seq.append(random.getrandbits(1))\n",
    "    if any(rand_bit_seq):          # not all zeros\n",
    "        return rand_bit_seq\n",
    "    else:                     # if they are all zeros try again\n",
    "        return rand_nonzero_bits(n)\n",
    "\n",
    "# 1) generate random bit sequences\n",
    "s1 = rand_nonzero_bits(Cipher.deg1) # as many bits as the degree of the polynomial\n",
    "s2 = rand_nonzero_bits(Cipher.deg2)\n",
    "s3 = rand_nonzero_bits(Cipher.deg3)\n",
    "\n",
    "# 2) to validate that the sequence is valid and to start the LFSRs\n",
    "cipher = Cipher((s1, s2, s3))\n",
    "\n",
    "# 3) generate bits and compare (match rates)\n",
    "N = 100000\n",
    "m1 = m2 = m3 = 0\n",
    "for _ in range(N):\n",
    "    x1 = cipher.l1.clock()\n",
    "    x2 = cipher.l2.clock()\n",
    "    x3 = cipher.l3.clock()\n",
    "    s = (x1 & x2) ^ ((1 - x1) & x3)\n",
    "    # sometimes s can equal more than one (x1, x2, x3) that's why no 'else'\n",
    "    if s == x1: \n",
    "        m1 += 1\n",
    "    if s == x2: \n",
    "        m2 += 1\n",
    "    if s == x3: \n",
    "        m3 += 1\n",
    "\n",
    "\n",
    "rate1 = m1 / N   # expect 0.5\n",
    "rate2 = m2 / N   # expect 0.75\n",
    "rate3 = m3 / N   # expect 0.75\n",
    "print(rate1, rate2, rate3)"
   ]
  },
  {
   "cell_type": "markdown",
   "id": "66e0a01d",
   "metadata": {},
   "source": [
    "---"
   ]
  },
  {
   "cell_type": "markdown",
   "id": "ecf1d067",
   "metadata": {},
   "source": [
    "### __Exercise 2: Recover the keystream of the known ciphertext__\n",
    "\n",
    "Attempt to reconstruct the maximal portion of the keystream employed to encrypt `NN-known-ciphertext.txt`.\n",
    "\n",
    "__(a) Explain how you recovered the keystream.__"
   ]
  },
  {
   "cell_type": "markdown",
   "id": "12739b60",
   "metadata": {},
   "source": [
    "__(b) Provide or identify the code used to do it.__"
   ]
  },
  {
   "cell_type": "markdown",
   "id": "1875c079",
   "metadata": {},
   "source": [
    "---"
   ]
  },
  {
   "cell_type": "markdown",
   "id": "25e4c516",
   "metadata": {},
   "source": [
    "### __Exercise 3: Find the initial state of a correlated LFSR__\n",
    "\n",
    "If an LFSR output is correlated with the keystream, find its initial state.\n",
    "\n",
    "__(a) Explain how you find such an initial state and show the result.__"
   ]
  },
  {
   "cell_type": "markdown",
   "id": "7b7e8938",
   "metadata": {},
   "source": [
    "__(b) How many bits from the keystream did you use? What are the implications of using more or less bits from the keystream to find such correlations?__"
   ]
  },
  {
   "cell_type": "markdown",
   "id": "e52e0b30",
   "metadata": {},
   "source": [
    "__(c) Provide or identify the code used to do it.__"
   ]
  },
  {
   "cell_type": "markdown",
   "id": "3b951979",
   "metadata": {},
   "source": [
    "---"
   ]
  },
  {
   "cell_type": "markdown",
   "id": "159e9049",
   "metadata": {},
   "source": [
    "### __Exercise 4: Define a strategy for a non-correlated LFSR__\n",
    "\n",
    "If an LFSR’s output is not correlated to the keystream, define how you can find its initial state.\n",
    "This strategy should improve on a brute-force search by leveraging the information obtained from correlated LFSR(s).\n",
    "\n",
    "__(a) Explain how you can find the initial state for the LFSR(s) that are not correlated.__\n"
   ]
  },
  {
   "cell_type": "markdown",
   "id": "628f75af",
   "metadata": {},
   "source": [
    "---"
   ]
  },
  {
   "cell_type": "markdown",
   "id": "c86e5bb4",
   "metadata": {},
   "source": [
    "### __Exercise 5: Find the key__\n",
    "\n",
    "Find the key of the stream cipher.\n",
    "\n",
    "__(a) Find the key for the stream cipher using the previous results and strategies.__\n"
   ]
  },
  {
   "cell_type": "markdown",
   "id": "eb188d54",
   "metadata": {},
   "source": [
    "__(b) Provide or identify the code used to do it.__"
   ]
  },
  {
   "cell_type": "markdown",
   "id": "fc30fd13",
   "metadata": {},
   "source": [
    "__(c) Give an estimate of the computation time required to find it.__"
   ]
  },
  {
   "cell_type": "markdown",
   "id": "27c7ea5b",
   "metadata": {},
   "source": [
    "### __Exercise 6: Decrypt the secret message__\n",
    "\n",
    "Decrypt the secret message NN-secret-ciphertext.txt. with the key obtained earlier. Success or failure should be obvious.\n",
    "\n",
    "__(a) Retrieve and show the secret message.__\n"
   ]
  }
 ],
 "metadata": {
  "kernelspec": {
   "display_name": "mlenv",
   "language": "python",
   "name": "python3"
  },
  "language_info": {
   "codemirror_mode": {
    "name": "ipython",
    "version": 3
   },
   "file_extension": ".py",
   "mimetype": "text/x-python",
   "name": "python",
   "nbconvert_exporter": "python",
   "pygments_lexer": "ipython3",
   "version": "3.10.17"
  }
 },
 "nbformat": 4,
 "nbformat_minor": 5
}
