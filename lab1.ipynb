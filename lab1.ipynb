{
 "cells": [
  {
   "cell_type": "markdown",
   "id": "7e9ff61b",
   "metadata": {},
   "source": [
    "Laura Boltà Ballesteros, NIU: 1705130\n",
    "\n",
    "## __Lab 1: Correlation Attacks in Stream Ciphers__\n",
    "---"
   ]
  },
  {
   "cell_type": "code",
   "execution_count": 29,
   "id": "5a7f0a5b",
   "metadata": {},
   "outputs": [],
   "source": [
    "import scipher\n",
    "plaintext = scipher.read_string_from_file(\"07-known-plaintext.txt\")\n",
    "ciphertext = scipher.read_string_from_file(\"07-known-ciphertext.txt\")\n",
    "secret_ciphertext = scipher.read_string_from_file(\"07-secret-ciphertext.txt\")"
   ]
  },
  {
   "cell_type": "markdown",
   "id": "47003a3f",
   "metadata": {},
   "source": [
    "### __Exercise 1: Find potential correlations__\n",
    "We want to analyze our stream cipher looking for possible vulnerabilities. Determine whether there is a correlation between the individual outputs of the LFSRs and the keystream. That is, determine if there is a correlation between any of the LFSRs separately and the keystream.\n",
    "\n",
    "__(a) Explain how you find these possible correlations analytically.__"
   ]
  },
  {
   "cell_type": "markdown",
   "id": "a8972956",
   "metadata": {},
   "source": [
    "> There are several ways to find the possible correlations between the individual outputs of the LFSRs and the keystream.\n",
    ">\n",
    "> From the given equation $s(t)=(x_1(t) ∧ x_2(t)) ⊕ (¬x_1(t) ∧ x_3(t))$ we can deduce that:\n",
    "> - When $x_1=1$, $s=x_2$\n",
    "> - When $x_1=0$, $s=x_3$\n",
    ">\n",
    "> Thus, the output $s(t)$ will depend on $x_2$ half of the time and on $x_3$ the other half.\n",
    "> To verify whether these inputs are correlated with the output, we analyze the truth table: \n",
    ">\n",
    "> | $x_1$ | $x_2$ | $x_3$ | ($x_1 ∧ x_2$) | ($x_1 ∧ x_3$) | $s(t)$ |\n",
    "> |----|----|----|------------|-------------|------|\n",
    "> | 0  | 0  | 0  | 0          | 0           | 0    |\n",
    "> | 0  | 0  | 1  | 0          | 1           | 1    |\n",
    "> | 0  | 1  | 0  | 0          | 0           | 0    |\n",
    "> | 0  | 1  | 1  | 0          | 1           | 1    |\n",
    "> | 1  | 0  | 0  | 0          | 0           | 0    |\n",
    "> | 1  | 0  | 1  | 0          | 0           | 0    |\n",
    "> | 1  | 1  | 0  | 1          | 0           | 1    |\n",
    "> | 1  | 1  | 1  | 1          | 0           | 1    |\n",
    ">\n",
    "> From this can also deduce that:\n",
    ">\n",
    "> - $s = x_1 \\Rightarrow \\frac{1}{2}$\n",
    ">\n",
    "> - $s = x_2 \\Rightarrow \\frac{3}{4}$\n",
    ">\n",
    "> - $s = x_3 \\Rightarrow \\frac{3}{4}$\n",
    ">\n",
    "> After deducing, we know that more than half of the times the output will be $x_2$. We also know that the same happens for $x_3$. So, we can conlude that for LFSR2 and LFSR3, the keystream equals their output $75\\%$ of the time, meaning there is correlation between them and the keystream.\n",
    ">\n",
    "> For LFSR1, the probability is exactly $\\frac{1}{2}$, meaning it is not correlated (it is random).\n",
    ">\n",
    "> So, LFSR2 and LFSR3 are correlated with the keystream and can be potential points of attack, while LFSR1 shows no exploitable correlation."
   ]
  },
  {
   "cell_type": "markdown",
   "id": "888d0be0",
   "metadata": {},
   "source": [
    "__(b) Explain how you validate them empirically.__"
   ]
  },
  {
   "cell_type": "markdown",
   "id": "ee47250b",
   "metadata": {},
   "source": [
    "> To empirically validate it we could:\n",
    ">\n",
    "> 1. Generate random bit sequences for $x_1$, $x_2$, and $x_3$.\n",
    ">\n",
    "> 2. For each time step, compute $s(t)=(x_1∧x_2) ⊕ (¬x_1∧x_3)$.\n",
    ">\n",
    "> 3. Compare $s$ with each input, and keep track of whether $s=x_1, s=x_2, s=x_3$.\n",
    ">\n",
    "> 4. Over many samples, compute the match rate for each ($\\frac{matches}{number of time steps}$) and check if they are close to the analytical values we got ($\\frac{1}{2}$ for $x_1$ and $\\frac{3}{4}$ for $x_2$ and $x_3$)."
   ]
  },
  {
   "cell_type": "markdown",
   "id": "8f8d975c",
   "metadata": {},
   "source": [
    "__(c) Provide or identify the code used to do it.__"
   ]
  },
  {
   "cell_type": "code",
   "execution_count": 30,
   "id": "754db88c",
   "metadata": {},
   "outputs": [
    {
     "name": "stdout",
     "output_type": "stream",
     "text": [
      "0.47528 0.76759 0.73466\n"
     ]
    }
   ],
   "source": [
    "import random\n",
    "def rand_nonzero_bits(n): \n",
    "    rand_bit_seq = [] \n",
    "    for i in range(n): \n",
    "        rand_bit_seq.append(random.getrandbits(1)) \n",
    "    if not any(rand_bit_seq):\n",
    "        rand_bit_seq[0] = 1\n",
    "    return rand_bit_seq\n",
    "\n",
    "# 1) generate random bit sequences\n",
    "s1 = rand_nonzero_bits(scipher.Cipher.deg1) # as many bits as the degree of the polynomial\n",
    "s2 = rand_nonzero_bits(scipher.Cipher.deg2)\n",
    "s3 = rand_nonzero_bits(scipher.Cipher.deg3)\n",
    "\n",
    "# 2) to validate that the sequence is valid and to start the LFSRs\n",
    "cipher = scipher.Cipher((s1, s2, s3))\n",
    "\n",
    "# 3) generate bits and compare (match rates)\n",
    "N = 100000\n",
    "m1 = m2 = m3 = 0\n",
    "for i in range(N):\n",
    "    x1 = cipher.l1.clock()\n",
    "    x2 = cipher.l2.clock()\n",
    "    x3 = cipher.l3.clock()\n",
    "    s = (x1 & x2) ^ ((1 - x1) & x3)\n",
    "    # sometimes s can equal more than one (x1, x2, x3) that's why no 'else'\n",
    "    if s == x1: \n",
    "        m1 += 1\n",
    "    if s == x2: \n",
    "        m2 += 1\n",
    "    if s == x3: \n",
    "        m3 += 1\n",
    "\n",
    "\n",
    "rate1 = m1 / N   # expect 0.5\n",
    "rate2 = m2 / N   # expect 0.75\n",
    "rate3 = m3 / N   # expect 0.75\n",
    "print(rate1, rate2, rate3)"
   ]
  },
  {
   "cell_type": "markdown",
   "id": "66e0a01d",
   "metadata": {},
   "source": [
    "---"
   ]
  },
  {
   "cell_type": "markdown",
   "id": "ecf1d067",
   "metadata": {},
   "source": [
    "### __Exercise 2: Recover the keystream of the known ciphertext__\n",
    "\n",
    "Attempt to reconstruct the maximal portion of the keystream employed to encrypt `NN-known-ciphertext.txt`.\n",
    "\n",
    "__(a) Explain how you recovered the keystream.__\n",
    ">\n",
    "> In order to recover the keystream we have analyzed the schem where we can see that:\n",
    "> - $Keystream ⊕ Plaintext = Ciphertext$.\n",
    ">\n",
    "> We know the plaintext and its respective ciphertext, so we can calculate the keystream like this:\n",
    "> - $Keystream = Plaintext ⊕ Ciphertext$\n"
   ]
  },
  {
   "cell_type": "markdown",
   "id": "12739b60",
   "metadata": {},
   "source": [
    "__(b) Provide or identify the code used to do it.__"
   ]
  },
  {
   "cell_type": "code",
   "execution_count": 31,
   "id": "49f624f1",
   "metadata": {},
   "outputs": [
    {
     "name": "stdout",
     "output_type": "stream",
     "text": [
      "The keystream is: b'\\xdb@)\\xd3\\xa7N\\x9d:t\\xe9\\xd3\\xa7N\\x9d:t\\xe9\\xd3\\xa7N\\x9d:t\\xe9\\xd3\\xa7N\\x9d:t\\xe9\\xd3\\xa7N\\x9d:t\\xe9\\xd3\\xa7N\\x9d:t\\xe9\\xd3\\xa7N\\x9d:t\\xe9\\xd3\\xa7N\\x9d:t\\xe9\\xd3\\xa7N\\x9d:t\\xe9\\xd3\\xa7N\\x9d:t\\xe9\\xd3\\xa7N\\x9d:t\\xe9\\xd3\\xa7N\\x9d:t\\xe9\\xd3\\xa7N\\x9d:t\\xe9\\xd3\\xa7N\\x9d:t\\xe9\\xd3\\xa7N\\x9d:t\\xe9\\xd3\\xa7N\\x9d:t\\xe9\\xd3\\xa7N\\x9d:t\\xe9\\xd3\\xa7N\\x9d:t\\xe9\\xd3\\xa7N\\x9d:t\\xe9\\xd3\\xa7N\\x9d:t\\xe9\\xd3\\xa7N\\x9d:t\\xe9\\xd3\\xa7'\n",
      "The keystream is: [1, 1, 0, 1, 1, 0, 1, 1, 0, 1, 0, 0, 0, 0, 0, 0, 0, 0, 1, 0, 1, 0, 0, 1, 1, 1, 0, 1, 0, 0, 1, 1, 1, 0, 1, 0, 0, 1, 1, 1, 0, 1, 0, 0, 1, 1, 1, 0, 1, 0, 0, 1, 1, 1, 0, 1, 0, 0, 1, 1, 1, 0, 1, 0, 0, 1, 1, 1, 0, 1, 0, 0, 1, 1, 1, 0, 1, 0, 0, 1, 1, 1, 0, 1, 0, 0, 1, 1, 1, 0, 1, 0, 0, 1, 1, 1, 0, 1, 0, 0, 1, 1, 1, 0, 1, 0, 0, 1, 1, 1, 0, 1, 0, 0, 1, 1, 1, 0, 1, 0, 0, 1, 1, 1, 0, 1, 0, 0, 1, 1, 1, 0, 1, 0, 0, 1, 1, 1, 0, 1, 0, 0, 1, 1, 1, 0, 1, 0, 0, 1, 1, 1, 0, 1, 0, 0, 1, 1, 1, 0, 1, 0, 0, 1, 1, 1, 0, 1, 0, 0, 1, 1, 1, 0, 1, 0, 0, 1, 1, 1, 0, 1, 0, 0, 1, 1, 1, 0, 1, 0, 0, 1, 1, 1, 0, 1, 0, 0, 1, 1, 1, 0, 1, 0, 0, 1, 1, 1, 0, 1, 0, 0, 1, 1, 1, 0, 1, 0, 0, 1, 1, 1, 0, 1, 0, 0, 1, 1, 1, 0, 1, 0, 0, 1, 1, 1, 0, 1, 0, 0, 1, 1, 1, 0, 1, 0, 0, 1, 1, 1, 0, 1, 0, 0, 1, 1, 1, 0, 1, 0, 0, 1, 1, 1, 0, 1, 0, 0, 1, 1, 1, 0, 1, 0, 0, 1, 1, 1, 0, 1, 0, 0, 1, 1, 1, 0, 1, 0, 0, 1, 1, 1, 0, 1, 0, 0, 1, 1, 1, 0, 1, 0, 0, 1, 1, 1, 0, 1, 0, 0, 1, 1, 1, 0, 1, 0, 0, 1, 1, 1, 0, 1, 0, 0, 1, 1, 1, 0, 1, 0, 0, 1, 1, 1, 0, 1, 0, 0, 1, 1, 1, 0, 1, 0, 0, 1, 1, 1, 0, 1, 0, 0, 1, 1, 1, 0, 1, 0, 0, 1, 1, 1, 0, 1, 0, 0, 1, 1, 1, 0, 1, 0, 0, 1, 1, 1, 0, 1, 0, 0, 1, 1, 1, 0, 1, 0, 0, 1, 1, 1, 0, 1, 0, 0, 1, 1, 1, 0, 1, 0, 0, 1, 1, 1, 0, 1, 0, 0, 1, 1, 1, 0, 1, 0, 0, 1, 1, 1, 0, 1, 0, 0, 1, 1, 1, 0, 1, 0, 0, 1, 1, 1, 0, 1, 0, 0, 1, 1, 1, 0, 1, 0, 0, 1, 1, 1, 0, 1, 0, 0, 1, 1, 1, 0, 1, 0, 0, 1, 1, 1, 0, 1, 0, 0, 1, 1, 1, 0, 1, 0, 0, 1, 1, 1, 0, 1, 0, 0, 1, 1, 1, 0, 1, 0, 0, 1, 1, 1, 0, 1, 0, 0, 1, 1, 1, 0, 1, 0, 0, 1, 1, 1, 0, 1, 0, 0, 1, 1, 1, 0, 1, 0, 0, 1, 1, 1, 0, 1, 0, 0, 1, 1, 1, 0, 1, 0, 0, 1, 1, 1, 0, 1, 0, 0, 1, 1, 1, 0, 1, 0, 0, 1, 1, 1, 0, 1, 0, 0, 1, 1, 1, 0, 1, 0, 0, 1, 1, 1, 0, 1, 0, 0, 1, 1, 1, 0, 1, 0, 0, 1, 1, 1, 0, 1, 0, 0, 1, 1, 1, 0, 1, 0, 0, 1, 1, 1, 0, 1, 0, 0, 1, 1, 1, 0, 1, 0, 0, 1, 1, 1, 0, 1, 0, 0, 1, 1, 1, 0, 1, 0, 0, 1, 1, 1, 0, 1, 0, 0, 1, 1, 1, 0, 1, 0, 0, 1, 1, 1, 0, 1, 0, 0, 1, 1, 1, 0, 1, 0, 0, 1, 1, 1, 0, 1, 0, 0, 1, 1, 1, 0, 1, 0, 0, 1, 1, 1, 0, 1, 0, 0, 1, 1, 1, 0, 1, 0, 0, 1, 1, 1, 0, 1, 0, 0, 1, 1, 1, 0, 1, 0, 0, 1, 1, 1, 0, 1, 0, 0, 1, 1, 1, 0, 1, 0, 0, 1, 1, 1, 0, 1, 0, 0, 1, 1, 1, 0, 1, 0, 0, 1, 1, 1, 0, 1, 0, 0, 1, 1, 1, 0, 1, 0, 0, 1, 1, 1, 0, 1, 0, 0, 1, 1, 1, 0, 1, 0, 0, 1, 1, 1, 0, 1, 0, 0, 1, 1, 1, 0, 1, 0, 0, 1, 1, 1, 0, 1, 0, 0, 1, 1, 1, 0, 1, 0, 0, 1, 1, 1, 0, 1, 0, 0, 1, 1, 1, 0, 1, 0, 0, 1, 1, 1, 0, 1, 0, 0, 1, 1, 1, 0, 1, 0, 0, 1, 1, 1, 0, 1, 0, 0, 1, 1, 1, 0, 1, 0, 0, 1, 1, 1, 0, 1, 0, 0, 1, 1, 1, 0, 1, 0, 0, 1, 1, 1, 0, 1, 0, 0, 1, 1, 1, 0, 1, 0, 0, 1, 1, 1, 0, 1, 0, 0, 1, 1, 1, 0, 1, 0, 0, 1, 1, 1, 0, 1, 0, 0, 1, 1, 1, 0, 1, 0, 0, 1, 1, 1, 0, 1, 0, 0, 1, 1, 1, 0, 1, 0, 0, 1, 1, 1, 0, 1, 0, 0, 1, 1, 1, 0, 1, 0, 0, 1, 1, 1, 0, 1, 0, 0, 1, 1, 1, 0, 1, 0, 0, 1, 1, 1, 0, 1, 0, 0, 1, 1, 1, 0, 1, 0, 0, 1, 1, 1, 0, 1, 0, 0, 1, 1, 1, 0, 1, 0, 0, 1, 1, 1, 0, 1, 0, 0, 1, 1, 1, 0, 1, 0, 0, 1, 1, 1, 0, 1, 0, 0, 1, 1, 1, 0, 1, 0, 0, 1, 1, 1, 0, 1, 0, 0, 1, 1, 1, 0, 1, 0, 0, 1, 1, 1, 0, 1, 0, 0, 1, 1, 1, 0, 1, 0, 0, 1, 1, 1, 0, 1, 0, 0, 1, 1, 1, 0, 1, 0, 0, 1, 1, 1, 0, 1, 0, 0, 1, 1, 1, 0, 1, 0, 0, 1, 1, 1, 0, 1, 0, 0, 1, 1, 1, 0, 1, 0, 0, 1, 1, 1, 0, 1, 0, 0, 1, 1, 1, 0, 1, 0, 0, 1, 1, 1, 0, 1, 0, 0, 1, 1, 1, 0, 1, 0, 0, 1, 1, 1, 0, 1, 0, 0, 1, 1, 1, 0, 1, 0, 0, 1, 1, 1, 0, 1, 0, 0, 1, 1, 1, 0, 1, 0, 0, 1, 1, 1, 0, 1, 0, 0, 1, 1, 1, 0, 1, 0, 0, 1, 1, 1, 0, 1, 0, 0, 1, 1, 1, 0, 1, 0, 0, 1, 1, 1, 0, 1, 0, 0, 1, 1, 1, 0, 1, 0, 0, 1, 1, 1, 0, 1, 0, 0, 1, 1, 1, 0, 1, 0, 0, 1, 1, 1, 0, 1, 0, 0, 1, 1, 1, 0, 1, 0, 0, 1, 1, 1, 0, 1, 0, 0, 1, 1, 1, 0, 1, 0, 0, 1, 1, 1, 0, 1, 0, 0, 1, 1, 1, 0, 1, 0, 0, 1, 1, 1, 0, 1, 0, 0, 1, 1, 1, 0, 1, 0, 0, 1, 1, 1, 0, 1, 0, 0, 1, 1, 1, 0, 1, 0, 0, 1, 1, 1]\n"
     ]
    }
   ],
   "source": [
    "def bytes_to_bits(data: bytes) -> list[int]:\n",
    "    bits = []\n",
    "    for byte in data:\n",
    "        for b in f\"{byte:08b}\":\n",
    "            bits.append(int(b))\n",
    "    return bits\n",
    "\n",
    "# 1) since _xor_bytes works with bytes we need to convert str to bytes and hex to bytes\n",
    "plaintext_bytes  = plaintext.encode(\"utf-8\")\n",
    "cihertext_bytes  = bytes.fromhex(ciphertext)\n",
    "\n",
    "# 2) now we can do the XOR\n",
    "keystream_bytes  = scipher._xor_bytes(plaintext_bytes, cihertext_bytes)  \n",
    "# in bites\n",
    "keystream_bits = bytes_to_bits(keystream_bytes)\n",
    "print(\"The keystream is:\",keystream_bytes)\n",
    "print(\"The keystream is:\",keystream_bits)"
   ]
  },
  {
   "cell_type": "markdown",
   "id": "1875c079",
   "metadata": {},
   "source": [
    "---"
   ]
  },
  {
   "cell_type": "markdown",
   "id": "25e4c516",
   "metadata": {},
   "source": [
    "### __Exercise 3: Find the initial state of a correlated LFSR__\n",
    "\n",
    "If an LFSR output is correlated with the keystream, find its initial state.\n",
    "\n",
    "__(a) Explain how you find such an initial state and show the result.__"
   ]
  },
  {
   "cell_type": "markdown",
   "id": "f8bcf8e8",
   "metadata": {},
   "source": [
    "> To find the initial state we start by findind the keystream (found in exercise 2) which is the result of doing an $XOR$ between the $plaintext$ and the $ciphertext$.\n",
    ">\n",
    "> Because the functon $s(t)$ is $75\\%$ correlated with $x_2$ and $x_3$, we start with LFSR2. We perform a brute-force search over all the 19-bit initial states that are not zero. For each initial state candidate we initialize LFSR2, generate the first `n` output bits ($x_2(t)$), and then compute the match rate with the keystream.\n",
    ">\n",
    "> From exercise 1 we know that the correct initial state should yield a match rate value around $0.75$, while the incorrect ones should yield a value around $0.50$. And since we can't know for sure which one is the correct initial value, we keep the top 5 initial values with highest matching rate value."
   ]
  },
  {
   "cell_type": "markdown",
   "id": "7b7e8938",
   "metadata": {},
   "source": [
    "__(b) How many bits from the keystream did you use? What are the implications of using more or less bits from the keystream to find such correlations?__"
   ]
  },
  {
   "cell_type": "markdown",
   "id": "a801e2bd",
   "metadata": {},
   "source": [
    "> We used `n=1200` bits from the keystream because it was the value for which the matching rate stabilized around $0.75$. If we used less bits our code would have been faster performing but the matching rate value would have been near the $0.50$. So, more bits gives us more reliability and better results, but it does take longer to process."
   ]
  },
  {
   "cell_type": "code",
   "execution_count": 32,
   "id": "8a828592",
   "metadata": {},
   "outputs": [
    {
     "name": "stdout",
     "output_type": "stream",
     "text": [
      "152 1216\n"
     ]
    }
   ],
   "source": [
    "# Plaintext bytes, bits\n",
    "plaintext_bytes = plaintext.encode(\"utf-8\")\n",
    "L_bytes = len(plaintext_bytes)\n",
    "L_bits  = 8 * L_bytes\n",
    "print(L_bytes, L_bits)"
   ]
  },
  {
   "cell_type": "markdown",
   "id": "e52e0b30",
   "metadata": {},
   "source": [
    "__(c) Provide or identify the code used to do it.__"
   ]
  },
  {
   "cell_type": "code",
   "execution_count": 33,
   "id": "8b1bf56c",
   "metadata": {},
   "outputs": [
    {
     "ename": "KeyboardInterrupt",
     "evalue": "",
     "output_type": "error",
     "traceback": [
      "\u001b[0;31m---------------------------------------------------------------------------\u001b[0m",
      "\u001b[0;31mKeyboardInterrupt\u001b[0m                         Traceback (most recent call last)",
      "Cell \u001b[0;32mIn[33], line 38\u001b[0m\n\u001b[1;32m     32\u001b[0m             best_init_state \u001b[38;5;241m=\u001b[39m x2_key\n\u001b[1;32m     35\u001b[0m     \u001b[38;5;28;01mreturn\u001b[39;00m best_total, best_init_state\n\u001b[0;32m---> 38\u001b[0m percentage, x2_initial_state \u001b[38;5;241m=\u001b[39m \u001b[43mlfsr2_brute_force\u001b[49m\u001b[43m(\u001b[49m\u001b[43m)\u001b[49m\n\u001b[1;32m     40\u001b[0m \u001b[38;5;28mprint\u001b[39m (percentage, x2_initial_state)[:\u001b[38;5;241m19\u001b[39m]\n",
      "Cell \u001b[0;32mIn[33], line 20\u001b[0m, in \u001b[0;36mlfsr2_brute_force\u001b[0;34m(n, best_total, length)\u001b[0m\n\u001b[1;32m     17\u001b[0m x2 \u001b[38;5;241m=\u001b[39m \u001b[38;5;28mlist\u001b[39m(x2_tuple)  \n\u001b[1;32m     19\u001b[0m lfsr \u001b[38;5;241m=\u001b[39m scipher\u001b[38;5;241m.\u001b[39mLFSR(x2, scipher\u001b[38;5;241m.\u001b[39mPOLY_LFSR_2)\n\u001b[0;32m---> 20\u001b[0m x2_key \u001b[38;5;241m=\u001b[39m [lfsr\u001b[38;5;241m.\u001b[39mclock() \u001b[38;5;28;01mfor\u001b[39;00m _ \u001b[38;5;129;01min\u001b[39;00m \u001b[38;5;28mrange\u001b[39m(length)]\n\u001b[1;32m     22\u001b[0m count \u001b[38;5;241m=\u001b[39m \u001b[38;5;241m0\u001b[39m\n\u001b[1;32m     23\u001b[0m total \u001b[38;5;241m=\u001b[39m \u001b[38;5;241m0\u001b[39m\n",
      "Cell \u001b[0;32mIn[33], line 20\u001b[0m, in \u001b[0;36m<listcomp>\u001b[0;34m(.0)\u001b[0m\n\u001b[1;32m     17\u001b[0m x2 \u001b[38;5;241m=\u001b[39m \u001b[38;5;28mlist\u001b[39m(x2_tuple)  \n\u001b[1;32m     19\u001b[0m lfsr \u001b[38;5;241m=\u001b[39m scipher\u001b[38;5;241m.\u001b[39mLFSR(x2, scipher\u001b[38;5;241m.\u001b[39mPOLY_LFSR_2)\n\u001b[0;32m---> 20\u001b[0m x2_key \u001b[38;5;241m=\u001b[39m [\u001b[43mlfsr\u001b[49m\u001b[38;5;241;43m.\u001b[39;49m\u001b[43mclock\u001b[49m\u001b[43m(\u001b[49m\u001b[43m)\u001b[49m \u001b[38;5;28;01mfor\u001b[39;00m _ \u001b[38;5;129;01min\u001b[39;00m \u001b[38;5;28mrange\u001b[39m(length)]\n\u001b[1;32m     22\u001b[0m count \u001b[38;5;241m=\u001b[39m \u001b[38;5;241m0\u001b[39m\n\u001b[1;32m     23\u001b[0m total \u001b[38;5;241m=\u001b[39m \u001b[38;5;241m0\u001b[39m\n",
      "File \u001b[0;32m~/Documents/GitHub/Lab01-Data-Privacy-and-Security/scipher.py:130\u001b[0m, in \u001b[0;36mLFSR.clock\u001b[0;34m(self)\u001b[0m\n\u001b[1;32m    128\u001b[0m feedback \u001b[38;5;241m=\u001b[39m \u001b[38;5;241m0\u001b[39m\n\u001b[1;32m    129\u001b[0m \u001b[38;5;28;01mfor\u001b[39;00m k, coeff \u001b[38;5;129;01min\u001b[39;00m \u001b[38;5;28menumerate\u001b[39m(\u001b[38;5;28mself\u001b[39m\u001b[38;5;241m.\u001b[39mpoly[:\u001b[38;5;241m-\u001b[39m\u001b[38;5;241m1\u001b[39m]):  \u001b[38;5;66;03m# exclude x^n\u001b[39;00m\n\u001b[0;32m--> 130\u001b[0m     \u001b[38;5;28;01mif\u001b[39;00m coeff \u001b[38;5;241m==\u001b[39m \u001b[38;5;241m1\u001b[39m:\n\u001b[1;32m    131\u001b[0m         idx \u001b[38;5;241m=\u001b[39m n \u001b[38;5;241m-\u001b[39m \u001b[38;5;241m1\u001b[39m \u001b[38;5;241m-\u001b[39m k\n\u001b[1;32m    132\u001b[0m         feedback \u001b[38;5;241m^\u001b[39m\u001b[38;5;241m=\u001b[39m \u001b[38;5;28mself\u001b[39m\u001b[38;5;241m.\u001b[39mstate[idx]\n",
      "\u001b[0;31mKeyboardInterrupt\u001b[0m: "
     ]
    }
   ],
   "source": [
    "def lfsr2_brute_force(n=2**19, best_total = 0, length = 100):\n",
    "    \"\"\"\n",
    "    Comparar els bits entre lfsr2 i keystream --> 75%\n",
    "    Només cal mirar els deg primers\n",
    "    \n",
    "    \"\"\"\n",
    "    x2_set = set()\n",
    "\n",
    "    for len in range(n):\n",
    "\n",
    "        x = rand_nonzero_bits(scipher.Cipher.deg2)\n",
    "        x2_set.add(tuple(x))\n",
    "\n",
    "\n",
    "      \n",
    "    for x2_tuple in x2_set:\n",
    "        x2 = list(x2_tuple)  \n",
    "\n",
    "        lfsr = scipher.LFSR(x2, scipher.POLY_LFSR_2)\n",
    "        x2_key = [lfsr.clock() for _ in range(length)]\n",
    "        \n",
    "        count = 0\n",
    "        total = 0\n",
    "\n",
    "        for i in range(length):\n",
    "            if x2_key[i] == keystream_bits[i]:\n",
    "                count += 1\n",
    "        total = count / length\n",
    "        \n",
    "        if total > best_total:\n",
    "            best_total = total\n",
    "            best_init_state = x2_key\n",
    "\n",
    "    \n",
    "    return best_total, best_init_state\n",
    "        \n",
    "\n",
    "percentage, x2_initial_state = lfsr2_brute_force()\n",
    "\n",
    "print (percentage, x2_initial_state)[:19]\n",
    "    \n"
   ]
  },
  {
   "cell_type": "code",
   "execution_count": null,
   "id": "d0d28dd5",
   "metadata": {},
   "outputs": [
    {
     "name": "stdout",
     "output_type": "stream",
     "text": [
      "1.0 [1, 1, 0, 1, 1, 0, 1, 1, 0, 1, 0, 0, 0, 0, 0, 0, 0, 0, 1, 0, 1, 0, 0, 1, 1, 1, 0, 1, 0, 0, 1, 1, 1, 0, 1, 0, 0, 1, 1, 1, 0, 1, 0, 0, 1, 1, 1, 0, 1, 0, 0, 1, 1, 1, 0, 1, 0, 0, 1, 1, 1, 0, 1, 0, 0, 1, 1, 1, 0, 1, 0, 0, 1, 1, 1, 0, 1, 0, 0, 1, 1, 1, 0, 1, 0, 0, 1, 1, 1, 0, 1, 0, 0, 1, 1, 1, 0, 1, 0, 0]\n"
     ]
    }
   ],
   "source": [
    "def lfsr3_brute_force(n=2**21, best_total = 0, length = 100):\n",
    "    \"\"\"\n",
    "    Comparar els bits entre lfsr3 i keystream --> 75%\n",
    "    Només cal mirar els deg primers\n",
    "    \n",
    "    \"\"\"\n",
    "    x3_set = set()\n",
    "\n",
    "    for len in range(n):\n",
    "\n",
    "        x = rand_nonzero_bits(scipher.Cipher.deg3)\n",
    "        x3_set.add(tuple(x))\n",
    "\n",
    "\n",
    "      \n",
    "    for x3_tuple in x3_set:\n",
    "        x3 = list(x3_tuple)  \n",
    "\n",
    "        lfsr = scipher.LFSR(x3, scipher.POLY_LFSR_3)\n",
    "        x3_key = [lfsr.clock() for _ in range(length)]\n",
    "        \n",
    "        count = 0\n",
    "        total = 0\n",
    "\n",
    "        for i in range(length):\n",
    "            if x3_key[i] == keystream_bits[i]:\n",
    "                count += 1\n",
    "        total = count / length\n",
    "        \n",
    "        if total > best_total:\n",
    "            best_total = total\n",
    "            best_init_state = x3_key\n",
    "\n",
    "    \n",
    "    return best_total, best_init_state\n",
    "        \n",
    "\n",
    "percentage, x3_initial_state = lfsr3_brute_force()\n",
    "\n",
    "print(percentage, x3_initial_state)[:21]"
   ]
  },
  {
   "cell_type": "markdown",
   "id": "3b951979",
   "metadata": {},
   "source": [
    "---"
   ]
  },
  {
   "cell_type": "markdown",
   "id": "159e9049",
   "metadata": {},
   "source": [
    "### __Exercise 4: Define a strategy for a non-correlated LFSR__\n",
    "\n",
    "If an LFSR’s output is not correlated to the keystream, define how you can find its initial state.\n",
    "This strategy should improve on a brute-force search by leveraging the information obtained from correlated LFSR(s).\n",
    "\n",
    "__(a) Explain how you can find the initial state for the LFSR(s) that are not correlated.__\n"
   ]
  },
  {
   "cell_type": "markdown",
   "id": "69e785cb",
   "metadata": {},
   "source": [
    "> From the function $s(t)$ we know that $x_1$ decides which register output is used:  \n",
    "> \n",
    "> - When $x_1=1$, $s=x_2$\n",
    "> - When $x_1=0$, $s=x_3$\n",
    ">\n",
    "> There is no direct correlation between LFSR1 and the keystream, but when $x_2 \\neq x_3$ we can directly know the value of $x_1$ without any calculation.\n",
    "> Therefore, we only need to compute the bits where $x_2 = x_3$. We can check this by looking at the truth table from exercise 1:\n",
    "> \n",
    "> For the rows where $x_2 \\neq x_3$ we check how $s$ changes with $x_1$:\n",
    "> - For $(x_2, x_3)=(1, 0)$: when $x_1=0 \\Rightarrow s=0$, when $x_1=1 \\Rightarrow s=1 \\rightarrow s=x_1$\n",
    "> - For $(x_2, x_3)=(0, 1)$: when $x_1=0 \\Rightarrow s=1$, when $x_1=1 \\Rightarrow s=0 \\rightarrow s=\\lnot x_1$\n",
    "> \n",
    "> From this we conclude that when $x_2 \\neq x_3$:\n",
    "> - If $(x_2, x_3)=(1, 0) \\rightarrow s=x_1$\n",
    "> - If $(x_2, x_3)=(0, 1) \\rightarrow s=\\lnot x_1$\n",
    "> \n",
    "> As we already know the keystream $s(t)$ and the outputs of $x_2(t)$ and $x_3(t)$, so we can use the same function to determine the missing bits of $x_1(t)$ and recover enough of its sequence to calculate the initial state of LFSR1."
   ]
  },
  {
   "cell_type": "markdown",
   "id": "628f75af",
   "metadata": {},
   "source": [
    "---"
   ]
  },
  {
   "cell_type": "markdown",
   "id": "c86e5bb4",
   "metadata": {},
   "source": [
    "### __Exercise 5: Find the key__\n",
    "\n",
    "Find the key of the stream cipher.\n",
    "\n",
    "__(a) Find the key for the stream cipher using the previous results and strategies.__\n"
   ]
  },
  {
   "cell_type": "markdown",
   "id": "eb188d54",
   "metadata": {},
   "source": [
    "__(b) Provide or identify the code used to do it.__"
   ]
  },
  {
   "cell_type": "code",
   "execution_count": null,
   "id": "324333dc",
   "metadata": {},
   "outputs": [
    {
     "ename": "IndentationError",
     "evalue": "expected an indented block after 'if' statement on line 9 (896445219.py, line 13)",
     "output_type": "error",
     "traceback": [
      "\u001b[0;36m  Cell \u001b[0;32mIn[7], line 13\u001b[0;36m\u001b[0m\n\u001b[0;31m    else:\u001b[0m\n\u001b[0m    ^\u001b[0m\n\u001b[0;31mIndentationError\u001b[0m\u001b[0;31m:\u001b[0m expected an indented block after 'if' statement on line 9\n"
     ]
    }
   ],
   "source": [
    "#We already know the keystream, and we have know more or less\n",
    "x2\n",
    "x3\n",
    "keystream\n",
    "x1 = []\n",
    "\n",
    "#We know by the s equation that\n",
    "for i, j in zip(x1,x2):\n",
    "    if i == j:\n",
    "        \n",
    "    \n",
    "    #So we only have to calculate when is a different case\n",
    "    else:\n",
    "\n"
   ]
  },
  {
   "cell_type": "markdown",
   "id": "fc30fd13",
   "metadata": {},
   "source": [
    "__(c) Give an estimate of the computation time required to find it.__"
   ]
  },
  {
   "cell_type": "markdown",
   "id": "26897f46",
   "metadata": {},
   "source": [
    "---"
   ]
  },
  {
   "cell_type": "markdown",
   "id": "27c7ea5b",
   "metadata": {},
   "source": [
    "### __Exercise 6: Decrypt the secret message__\n",
    "\n",
    "Decrypt the secret message NN-secret-ciphertext.txt. with the key obtained earlier. Success or failure should be obvious.\n",
    "\n",
    "__(a) Retrieve and show the secret message.__\n"
   ]
  }
 ],
 "metadata": {
  "kernelspec": {
   "display_name": "mlenv",
   "language": "python",
   "name": "python3"
  },
  "language_info": {
   "codemirror_mode": {
    "name": "ipython",
    "version": 3
   },
   "file_extension": ".py",
   "mimetype": "text/x-python",
   "name": "python",
   "nbconvert_exporter": "python",
   "pygments_lexer": "ipython3",
   "version": "3.10.17"
  }
 },
 "nbformat": 4,
 "nbformat_minor": 5
}
