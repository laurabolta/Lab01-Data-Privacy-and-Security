{
 "cells": [
  {
   "cell_type": "markdown",
   "id": "7e9ff61b",
   "metadata": {},
   "source": [
    "Laura Boltà Ballesteros, NIU: 1705130\n",
    "\n",
    "## __Lab 1: Correlation Attacks in Stream Ciphers__\n",
    "---"
   ]
  },
  {
   "cell_type": "code",
   "execution_count": 1,
   "id": "5a7f0a5b",
   "metadata": {},
   "outputs": [],
   "source": [
    "import scipher\n",
    "plaintext = scipher.read_string_from_file(\"07-known-plaintext.txt\")\n",
    "ciphertext = scipher.read_string_from_file(\"07-known-ciphertext.txt\")\n",
    "secret_ciphertext = scipher.read_string_from_file(\"07-secret-ciphertext.txt\")"
   ]
  },
  {
   "cell_type": "markdown",
   "id": "47003a3f",
   "metadata": {},
   "source": [
    "### __Exercise 1: Find potential correlations__\n",
    "We want to analyze our stream cipher looking for possible vulnerabilities. Determine whether there is a correlation between the individual outputs of the LFSRs and the keystream. That is, determine if there is a correlation between any of the LFSRs separately and the keystream.\n",
    "\n",
    "__(a) Explain how you find these possible correlations analytically.__"
   ]
  },
  {
   "cell_type": "markdown",
   "id": "a8972956",
   "metadata": {},
   "source": [
    "> There are several ways to find the possible correlations between the individual outputs of the LFSRs and the keystream.\n",
    ">\n",
    "> From the given equation $s(t)=(x_1(t) ∧ x_2(t)) ⊕ (¬x_1(t) ∧ x_3(t))$ we can deduce that:\n",
    "> - When $x_1=1$, $s=x_2$\n",
    "> - When $x_1=0$, $s=x_3$\n",
    ">\n",
    "> Thus, the output $s(t)$ will depend on $x_2$ half of the time and on $x_3$ the other half.\n",
    "> To verify whether these inputs are correlated with the output, we analyze the truth table: \n",
    ">\n",
    "> | $x_1$ | $x_2$ | $x_3$ | ($x_1 ∧ x_2$) | ($x_1 ∧ x_3$) | $s(t)$ |\n",
    "> |----|----|----|------------|-------------|------|\n",
    "> | 0  | 0  | 0  | 0          | 0           | 0    |\n",
    "> | 0  | 0  | 1  | 0          | 1           | 1    |\n",
    "> | 0  | 1  | 0  | 0          | 0           | 0    |\n",
    "> | 0  | 1  | 1  | 0          | 1           | 1    |\n",
    "> | 1  | 0  | 0  | 0          | 0           | 0    |\n",
    "> | 1  | 0  | 1  | 0          | 0           | 0    |\n",
    "> | 1  | 1  | 0  | 1          | 0           | 1    |\n",
    "> | 1  | 1  | 1  | 1          | 0           | 1    |\n",
    ">\n",
    "> From this can also deduce that:\n",
    ">\n",
    "> - $s = x_1 \\Rightarrow \\frac{1}{2}$\n",
    ">\n",
    "> - $s = x_2 \\Rightarrow \\frac{3}{4}$\n",
    ">\n",
    "> - $s = x_3 \\Rightarrow \\frac{3}{4}$\n",
    ">\n",
    "> After deducing, we know that more than half of the times the output will be $x_2$. We also know that the same happens for $x_3$. So, we can conlude that for LFSR2 and LFSR3, the keystream equals their output $75\\%$ of the time, meaning there is correlation between them and the keystream.\n",
    ">\n",
    "> For LFSR1, the probability is exactly $\\frac{1}{2}$, meaning it is not correlated (it is random).\n",
    ">\n",
    "> So, LFSR2 and LFSR3 are correlated with the keystream and can be potential points of attack, while LFSR1 shows no exploitable correlation."
   ]
  },
  {
   "cell_type": "markdown",
   "id": "888d0be0",
   "metadata": {},
   "source": [
    "__(b) Explain how you validate them empirically.__"
   ]
  },
  {
   "cell_type": "markdown",
   "id": "ee47250b",
   "metadata": {},
   "source": [
    "> To empirically validate it we could:\n",
    ">\n",
    "> 1. Generate random bit sequences for $x_1$, $x_2$, and $x_3$.\n",
    ">\n",
    "> 2. For each time step, compute $s(t)=(x_1∧x_2) ⊕ (¬x_1∧x_3)$.\n",
    ">\n",
    "> 3. Compare $s$ with each input, and keep track of whether $s=x_1, s=x_2, s=x_3$.\n",
    ">\n",
    "> 4. Over many samples, compute the match rate for each ($\\frac{matches}{number of time steps}$) and check if they are close to the analytical values we got ($\\frac{1}{2}$ for $x_1$ and $\\frac{3}{4}$ for $x_2$ and $x_3$)."
   ]
  },
  {
   "cell_type": "markdown",
   "id": "8f8d975c",
   "metadata": {},
   "source": [
    "__(c) Provide or identify the code used to do it.__"
   ]
  },
  {
   "cell_type": "code",
   "execution_count": 2,
   "id": "754db88c",
   "metadata": {},
   "outputs": [
    {
     "name": "stdout",
     "output_type": "stream",
     "text": [
      "0.47527 0.76793 0.73441\n"
     ]
    }
   ],
   "source": [
    "import random\n",
    "def rand_nonzero_bits(n): \n",
    "    rand_bit_seq = [] \n",
    "    for i in range(n): \n",
    "        rand_bit_seq.append(random.getrandbits(1)) \n",
    "    if not any(rand_bit_seq):\n",
    "        rand_bit_seq[0] = 1\n",
    "    return rand_bit_seq\n",
    "\n",
    "# we generate random bit sequences\n",
    "s1 = rand_nonzero_bits(scipher.Cipher.deg1) # as many bits as the degree of the polynomial\n",
    "s2 = rand_nonzero_bits(scipher.Cipher.deg2)\n",
    "s3 = rand_nonzero_bits(scipher.Cipher.deg3)\n",
    "\n",
    "# this is to validate that the sequence is valid and to start the LFSRs\n",
    "cipher = scipher.Cipher((s1, s2, s3))\n",
    "\n",
    "# we generate bits and compare (match rates)\n",
    "N = 100000\n",
    "m1 = m2 = m3 = 0\n",
    "for i in range(N):\n",
    "    x1 = cipher.l1.clock()\n",
    "    x2 = cipher.l2.clock()\n",
    "    x3 = cipher.l3.clock()\n",
    "    s = (x1 & x2) ^ ((1 - x1) & x3)\n",
    "    # sometimes s can equal more than one (x1, x2, x3) that's why no 'else'\n",
    "    if s == x1: \n",
    "        m1 += 1\n",
    "    if s == x2: \n",
    "        m2 += 1\n",
    "    if s == x3: \n",
    "        m3 += 1\n",
    "\n",
    "\n",
    "rate1 = m1 / N   # expect 0.5\n",
    "rate2 = m2 / N   # expect 0.75\n",
    "rate3 = m3 / N   # expect 0.75\n",
    "print(rate1, rate2, rate3)"
   ]
  },
  {
   "cell_type": "markdown",
   "id": "66e0a01d",
   "metadata": {},
   "source": [
    "---"
   ]
  },
  {
   "cell_type": "markdown",
   "id": "ecf1d067",
   "metadata": {},
   "source": [
    "### __Exercise 2: Recover the keystream of the known ciphertext__\n",
    "\n",
    "Attempt to reconstruct the maximal portion of the keystream employed to encrypt `NN-known-ciphertext.txt`.\n",
    "\n",
    "__(a) Explain how you recovered the keystream.__\n",
    ">\n",
    "> In order to recover the keystream we have analyzed the schem where we can see that:\n",
    "> - $Keystream ⊕ Plaintext = Ciphertext$.\n",
    ">\n",
    "> We know the plaintext and its respective ciphertext, so we can calculate the keystream like this:\n",
    "> - $Keystream = Plaintext ⊕ Ciphertext$\n"
   ]
  },
  {
   "cell_type": "markdown",
   "id": "12739b60",
   "metadata": {},
   "source": [
    "__(b) Provide or identify the code used to do it.__"
   ]
  },
  {
   "cell_type": "code",
   "execution_count": 3,
   "id": "49f624f1",
   "metadata": {},
   "outputs": [
    {
     "name": "stdout",
     "output_type": "stream",
     "text": [
      "The keystream in bytes is: b'\\xdb@)\\xd3\\xa7N\\x9d:t\\xe9\\xd3\\xa7N\\x9d:t\\xe9\\xd3\\xa7N\\x9d:t\\xe9\\xd3\\xa7N\\x9d:t\\xe9\\xd3\\xa7N\\x9d:t\\xe9\\xd3\\xa7N\\x9d:t\\xe9\\xd3\\xa7N\\x9d:t\\xe9\\xd3\\xa7N\\x9d:t\\xe9\\xd3\\xa7N\\x9d:t\\xe9\\xd3\\xa7N\\x9d:t\\xe9\\xd3\\xa7N\\x9d:t\\xe9\\xd3\\xa7N\\x9d:t\\xe9\\xd3\\xa7N\\x9d:t\\xe9\\xd3\\xa7N\\x9d:t\\xe9\\xd3\\xa7N\\x9d:t\\xe9\\xd3\\xa7N\\x9d:t\\xe9\\xd3\\xa7N\\x9d:t\\xe9\\xd3\\xa7N\\x9d:t\\xe9\\xd3\\xa7N\\x9d:t\\xe9\\xd3\\xa7N\\x9d:t\\xe9\\xd3\\xa7N\\x9d:t\\xe9\\xd3\\xa7'\n",
      "The keystream in bits is: [1, 1, 0, 1, 1, 0, 1, 1, 0, 1, 0, 0, 0, 0, 0, 0, 0, 0, 1, 0, 1, 0, 0, 1, 1, 1, 0, 1, 0, 0, 1, 1, 1, 0, 1, 0, 0, 1, 1, 1, 0, 1, 0, 0, 1, 1, 1, 0, 1, 0, 0, 1, 1, 1, 0, 1, 0, 0, 1, 1, 1, 0, 1, 0, 0, 1, 1, 1, 0, 1, 0, 0, 1, 1, 1, 0, 1, 0, 0, 1, 1, 1, 0, 1, 0, 0, 1, 1, 1, 0, 1, 0, 0, 1, 1, 1, 0, 1, 0, 0, 1, 1, 1, 0, 1, 0, 0, 1, 1, 1, 0, 1, 0, 0, 1, 1, 1, 0, 1, 0, 0, 1, 1, 1, 0, 1, 0, 0, 1, 1, 1, 0, 1, 0, 0, 1, 1, 1, 0, 1, 0, 0, 1, 1, 1, 0, 1, 0, 0, 1, 1, 1, 0, 1, 0, 0, 1, 1, 1, 0, 1, 0, 0, 1, 1, 1, 0, 1, 0, 0, 1, 1, 1, 0, 1, 0, 0, 1, 1, 1, 0, 1, 0, 0, 1, 1, 1, 0, 1, 0, 0, 1, 1, 1, 0, 1, 0, 0, 1, 1, 1, 0, 1, 0, 0, 1, 1, 1, 0, 1, 0, 0, 1, 1, 1, 0, 1, 0, 0, 1, 1, 1, 0, 1, 0, 0, 1, 1, 1, 0, 1, 0, 0, 1, 1, 1, 0, 1, 0, 0, 1, 1, 1, 0, 1, 0, 0, 1, 1, 1, 0, 1, 0, 0, 1, 1, 1, 0, 1, 0, 0, 1, 1, 1, 0, 1, 0, 0, 1, 1, 1, 0, 1, 0, 0, 1, 1, 1, 0, 1, 0, 0, 1, 1, 1, 0, 1, 0, 0, 1, 1, 1, 0, 1, 0, 0, 1, 1, 1, 0, 1, 0, 0, 1, 1, 1, 0, 1, 0, 0, 1, 1, 1, 0, 1, 0, 0, 1, 1, 1, 0, 1, 0, 0, 1, 1, 1, 0, 1, 0, 0, 1, 1, 1, 0, 1, 0, 0, 1, 1, 1, 0, 1, 0, 0, 1, 1, 1, 0, 1, 0, 0, 1, 1, 1, 0, 1, 0, 0, 1, 1, 1, 0, 1, 0, 0, 1, 1, 1, 0, 1, 0, 0, 1, 1, 1, 0, 1, 0, 0, 1, 1, 1, 0, 1, 0, 0, 1, 1, 1, 0, 1, 0, 0, 1, 1, 1, 0, 1, 0, 0, 1, 1, 1, 0, 1, 0, 0, 1, 1, 1, 0, 1, 0, 0, 1, 1, 1, 0, 1, 0, 0, 1, 1, 1, 0, 1, 0, 0, 1, 1, 1, 0, 1, 0, 0, 1, 1, 1, 0, 1, 0, 0, 1, 1, 1, 0, 1, 0, 0, 1, 1, 1, 0, 1, 0, 0, 1, 1, 1, 0, 1, 0, 0, 1, 1, 1, 0, 1, 0, 0, 1, 1, 1, 0, 1, 0, 0, 1, 1, 1, 0, 1, 0, 0, 1, 1, 1, 0, 1, 0, 0, 1, 1, 1, 0, 1, 0, 0, 1, 1, 1, 0, 1, 0, 0, 1, 1, 1, 0, 1, 0, 0, 1, 1, 1, 0, 1, 0, 0, 1, 1, 1, 0, 1, 0, 0, 1, 1, 1, 0, 1, 0, 0, 1, 1, 1, 0, 1, 0, 0, 1, 1, 1, 0, 1, 0, 0, 1, 1, 1, 0, 1, 0, 0, 1, 1, 1, 0, 1, 0, 0, 1, 1, 1, 0, 1, 0, 0, 1, 1, 1, 0, 1, 0, 0, 1, 1, 1, 0, 1, 0, 0, 1, 1, 1, 0, 1, 0, 0, 1, 1, 1, 0, 1, 0, 0, 1, 1, 1, 0, 1, 0, 0, 1, 1, 1, 0, 1, 0, 0, 1, 1, 1, 0, 1, 0, 0, 1, 1, 1, 0, 1, 0, 0, 1, 1, 1, 0, 1, 0, 0, 1, 1, 1, 0, 1, 0, 0, 1, 1, 1, 0, 1, 0, 0, 1, 1, 1, 0, 1, 0, 0, 1, 1, 1, 0, 1, 0, 0, 1, 1, 1, 0, 1, 0, 0, 1, 1, 1, 0, 1, 0, 0, 1, 1, 1, 0, 1, 0, 0, 1, 1, 1, 0, 1, 0, 0, 1, 1, 1, 0, 1, 0, 0, 1, 1, 1, 0, 1, 0, 0, 1, 1, 1, 0, 1, 0, 0, 1, 1, 1, 0, 1, 0, 0, 1, 1, 1, 0, 1, 0, 0, 1, 1, 1, 0, 1, 0, 0, 1, 1, 1, 0, 1, 0, 0, 1, 1, 1, 0, 1, 0, 0, 1, 1, 1, 0, 1, 0, 0, 1, 1, 1, 0, 1, 0, 0, 1, 1, 1, 0, 1, 0, 0, 1, 1, 1, 0, 1, 0, 0, 1, 1, 1, 0, 1, 0, 0, 1, 1, 1, 0, 1, 0, 0, 1, 1, 1, 0, 1, 0, 0, 1, 1, 1, 0, 1, 0, 0, 1, 1, 1, 0, 1, 0, 0, 1, 1, 1, 0, 1, 0, 0, 1, 1, 1, 0, 1, 0, 0, 1, 1, 1, 0, 1, 0, 0, 1, 1, 1, 0, 1, 0, 0, 1, 1, 1, 0, 1, 0, 0, 1, 1, 1, 0, 1, 0, 0, 1, 1, 1, 0, 1, 0, 0, 1, 1, 1, 0, 1, 0, 0, 1, 1, 1, 0, 1, 0, 0, 1, 1, 1, 0, 1, 0, 0, 1, 1, 1, 0, 1, 0, 0, 1, 1, 1, 0, 1, 0, 0, 1, 1, 1, 0, 1, 0, 0, 1, 1, 1, 0, 1, 0, 0, 1, 1, 1, 0, 1, 0, 0, 1, 1, 1, 0, 1, 0, 0, 1, 1, 1, 0, 1, 0, 0, 1, 1, 1, 0, 1, 0, 0, 1, 1, 1, 0, 1, 0, 0, 1, 1, 1, 0, 1, 0, 0, 1, 1, 1, 0, 1, 0, 0, 1, 1, 1, 0, 1, 0, 0, 1, 1, 1, 0, 1, 0, 0, 1, 1, 1, 0, 1, 0, 0, 1, 1, 1, 0, 1, 0, 0, 1, 1, 1, 0, 1, 0, 0, 1, 1, 1, 0, 1, 0, 0, 1, 1, 1, 0, 1, 0, 0, 1, 1, 1, 0, 1, 0, 0, 1, 1, 1, 0, 1, 0, 0, 1, 1, 1, 0, 1, 0, 0, 1, 1, 1, 0, 1, 0, 0, 1, 1, 1, 0, 1, 0, 0, 1, 1, 1, 0, 1, 0, 0, 1, 1, 1, 0, 1, 0, 0, 1, 1, 1, 0, 1, 0, 0, 1, 1, 1, 0, 1, 0, 0, 1, 1, 1, 0, 1, 0, 0, 1, 1, 1, 0, 1, 0, 0, 1, 1, 1, 0, 1, 0, 0, 1, 1, 1, 0, 1, 0, 0, 1, 1, 1, 0, 1, 0, 0, 1, 1, 1, 0, 1, 0, 0, 1, 1, 1, 0, 1, 0, 0, 1, 1, 1, 0, 1, 0, 0, 1, 1, 1, 0, 1, 0, 0, 1, 1, 1, 0, 1, 0, 0, 1, 1, 1, 0, 1, 0, 0, 1, 1, 1, 0, 1, 0, 0, 1, 1, 1, 0, 1, 0, 0, 1, 1, 1, 0, 1, 0, 0, 1, 1, 1, 0, 1, 0, 0, 1, 1, 1, 0, 1, 0, 0, 1, 1, 1, 0, 1, 0, 0, 1, 1, 1, 0, 1, 0, 0, 1, 1, 1, 0, 1, 0, 0, 1, 1, 1, 0, 1, 0, 0, 1, 1, 1, 0, 1, 0, 0, 1, 1, 1]\n"
     ]
    }
   ],
   "source": [
    "def bytes_to_bits(data: bytes) -> list[int]:\n",
    "    bits = []\n",
    "    for byte in data:\n",
    "        for b in f\"{byte:08b}\":\n",
    "            bits.append(int(b))\n",
    "    return bits\n",
    "\n",
    "# since _xor_bytes works with bytes we need to convert str to bytes and hex to bytes\n",
    "plaintext_bytes  = plaintext.encode(\"utf-8\")\n",
    "cihertext_bytes  = bytes.fromhex(ciphertext)\n",
    "\n",
    "# now we can do the XOR\n",
    "keystream_bytes  = scipher._xor_bytes(plaintext_bytes, cihertext_bytes)  \n",
    "# in bites\n",
    "keystream_bits = bytes_to_bits(keystream_bytes)\n",
    "print(\"The keystream in bytes is:\",keystream_bytes)\n",
    "print(\"The keystream in bits is:\",keystream_bits)"
   ]
  },
  {
   "cell_type": "markdown",
   "id": "1875c079",
   "metadata": {},
   "source": [
    "---"
   ]
  },
  {
   "cell_type": "markdown",
   "id": "25e4c516",
   "metadata": {},
   "source": [
    "### __Exercise 3: Find the initial state of a correlated LFSR__\n",
    "\n",
    "If an LFSR output is correlated with the keystream, find its initial state.\n",
    "\n",
    "__(a) Explain how you find such an initial state and show the result.__"
   ]
  },
  {
   "cell_type": "markdown",
   "id": "f8bcf8e8",
   "metadata": {},
   "source": [
    "> To find the initial state we start by findind the keystream (found in exercise 2) which is the result of doing an $XOR$ between the $plaintext$ and the $ciphertext$.\n",
    ">\n",
    "> Because the functon $s(t)$ is $75\\%$ correlated with $x_2$ and $x_3$, we start with LFSR2. We perform a brute-force search over all the 19-bit initial states that are not zero. For each initial state candidate we initialize LFSR2, generate the first `n` output bits ($x_2(t)$), and then compute the match rate with the keystream.\n",
    ">\n",
    "> From exercise 1 we know that the correct initial state should yield a match rate value around $0.75$, while the incorrect ones should yield a value around $0.50$. And since we can't know for sure which one is the correct initial value, we keep the top 5 initial values with highest matching rate value."
   ]
  },
  {
   "cell_type": "markdown",
   "id": "7b7e8938",
   "metadata": {},
   "source": [
    "__(b) How many bits from the keystream did you use? What are the implications of using more or less bits from the keystream to find such correlations?__"
   ]
  },
  {
   "cell_type": "markdown",
   "id": "a801e2bd",
   "metadata": {},
   "source": [
    "> We used `n=1200` bits from the keystream because it was the value for which the matching rate stabilized around $0.75$. If we used less bits our code would have been faster performing but the matching rate value would have been near the $0.50$. So, more bits gives us more reliability and better results, but it does take longer to process."
   ]
  },
  {
   "cell_type": "code",
   "execution_count": 4,
   "id": "8a828592",
   "metadata": {},
   "outputs": [
    {
     "name": "stdout",
     "output_type": "stream",
     "text": [
      "152 1216\n"
     ]
    }
   ],
   "source": [
    "# plaintext bytes, bits\n",
    "plaintext_bytes = plaintext.encode(\"utf-8\")\n",
    "L_bytes = len(plaintext_bytes)\n",
    "L_bits  = 8 * L_bytes\n",
    "print(L_bytes, L_bits)"
   ]
  },
  {
   "cell_type": "markdown",
   "id": "e52e0b30",
   "metadata": {},
   "source": [
    "__(c) Provide or identify the code used to do it.__"
   ]
  },
  {
   "cell_type": "code",
   "execution_count": 5,
   "id": "8b1bf56c",
   "metadata": {},
   "outputs": [
    {
     "name": "stdout",
     "output_type": "stream",
     "text": [
      "0.66 [1, 1, 0, 1, 1, 0, 1, 1, 0, 1, 0, 0, 0, 0, 0, 0, 0, 1, 1]\n",
      "[0.66, [1, 1, 0, 1, 1, 0, 1, 1, 0, 1, 0, 0, 0, 0, 0, 0, 0, 1, 1, 0, 0, 1, 0, 0, 1, 1, 1, 1, 1, 0, 1, 1, 1, 0, 0, 0, 1, 0, 1, 0, 1, 1, 0, 1, 0, 0, 0, 0, 1, 1, 0, 0, 1, 0, 0, 1, 1, 1, 1, 1, 0, 1, 1, 1, 0, 0, 0, 1, 0, 1, 0, 1, 1, 0, 1, 0, 0, 0, 0, 1, 1, 0, 0, 1, 0, 0, 1, 1, 1, 1, 1, 0, 1, 1, 1, 0, 0, 0, 1, 0]]\n",
      "[0.65, [1, 1, 1, 1, 1, 0, 1, 1, 0, 1, 0, 0, 0, 0, 0, 0, 0, 1, 1, 0, 0, 1, 0, 0, 1, 1, 1, 1, 1, 0, 1, 1, 1, 0, 0, 0, 1, 0, 1, 0, 1, 1, 0, 1, 0, 0, 0, 0, 1, 1, 0, 0, 1, 0, 0, 1, 1, 1, 1, 1, 0, 1, 1, 1, 0, 0, 0, 1, 0, 1, 0, 1, 1, 0, 1, 0, 0, 0, 0, 1, 1, 0, 0, 1, 0, 0, 1, 1, 1, 1, 1, 0, 1, 1, 1, 0, 0, 0, 1, 0]]\n",
      "[0.65, [1, 1, 0, 1, 1, 1, 1, 1, 0, 1, 0, 0, 0, 0, 0, 0, 0, 1, 1, 0, 0, 1, 0, 0, 1, 1, 1, 1, 1, 0, 1, 1, 1, 0, 0, 0, 1, 0, 1, 0, 1, 1, 0, 1, 0, 0, 0, 0, 1, 1, 0, 0, 1, 0, 0, 1, 1, 1, 1, 1, 0, 1, 1, 1, 0, 0, 0, 1, 0, 1, 0, 1, 1, 0, 1, 0, 0, 0, 0, 1, 1, 0, 0, 1, 0, 0, 1, 1, 1, 1, 1, 0, 1, 1, 1, 0, 0, 0, 1, 0]]\n",
      "[0.65, [1, 1, 0, 1, 1, 0, 1, 1, 0, 1, 0, 0, 0, 1, 0, 0, 0, 1, 1, 0, 0, 1, 0, 0, 1, 1, 1, 1, 1, 0, 1, 1, 1, 0, 0, 0, 1, 0, 1, 0, 1, 1, 0, 1, 0, 0, 0, 0, 1, 1, 0, 0, 1, 0, 0, 1, 1, 1, 1, 1, 0, 1, 1, 1, 0, 0, 0, 1, 0, 1, 0, 1, 1, 0, 1, 0, 0, 0, 0, 1, 1, 0, 0, 1, 0, 0, 1, 1, 1, 1, 1, 0, 1, 1, 1, 0, 0, 0, 1, 0]]\n",
      "[0.65, [1, 1, 0, 1, 1, 0, 1, 1, 0, 0, 0, 0, 0, 0, 0, 0, 0, 1, 1, 0, 0, 1, 0, 0, 1, 1, 1, 1, 1, 0, 1, 1, 1, 0, 0, 0, 1, 0, 1, 0, 1, 1, 0, 1, 0, 0, 0, 0, 1, 1, 0, 0, 1, 0, 0, 1, 1, 1, 1, 1, 0, 1, 1, 1, 0, 0, 0, 1, 0, 1, 0, 1, 1, 0, 1, 0, 0, 0, 0, 1, 1, 0, 0, 1, 0, 0, 1, 1, 1, 1, 1, 0, 1, 1, 1, 0, 0, 0, 1, 0]]\n",
      "[0.65, [1, 1, 0, 1, 1, 0, 1, 0, 0, 1, 0, 0, 0, 0, 0, 0, 0, 1, 1, 0, 0, 1, 0, 0, 1, 1, 1, 1, 1, 0, 1, 1, 1, 0, 0, 0, 1, 0, 1, 0, 1, 1, 0, 1, 0, 0, 0, 0, 1, 1, 0, 0, 1, 0, 0, 1, 1, 1, 1, 1, 0, 1, 1, 1, 0, 0, 0, 1, 0, 1, 0, 1, 1, 0, 1, 0, 0, 0, 0, 1, 1, 0, 0, 1, 0, 0, 1, 1, 1, 1, 1, 0, 1, 1, 1, 0, 0, 0, 1, 0]]\n",
      "[0.65, [1, 1, 0, 0, 1, 0, 1, 1, 0, 1, 0, 0, 0, 0, 0, 0, 0, 1, 1, 0, 0, 1, 0, 0, 1, 1, 1, 1, 1, 0, 1, 1, 1, 0, 0, 0, 1, 0, 1, 0, 1, 1, 0, 1, 0, 0, 0, 0, 1, 1, 0, 0, 1, 0, 0, 1, 1, 1, 1, 1, 0, 1, 1, 1, 0, 0, 0, 1, 0, 1, 0, 1, 1, 0, 1, 0, 0, 0, 0, 1, 1, 0, 0, 1, 0, 0, 1, 1, 1, 1, 1, 0, 1, 1, 1, 0, 0, 0, 1, 0]]\n",
      "[0.65, [1, 0, 0, 1, 1, 0, 1, 1, 0, 1, 0, 0, 0, 0, 0, 0, 0, 1, 1, 0, 0, 1, 0, 0, 1, 1, 1, 1, 1, 0, 1, 1, 1, 0, 0, 0, 1, 0, 1, 0, 1, 1, 0, 1, 0, 0, 0, 0, 1, 1, 0, 0, 1, 0, 0, 1, 1, 1, 1, 1, 0, 1, 1, 1, 0, 0, 0, 1, 0, 1, 0, 1, 1, 0, 1, 0, 0, 0, 0, 1, 1, 0, 0, 1, 0, 0, 1, 1, 1, 1, 1, 0, 1, 1, 1, 0, 0, 0, 1, 0]]\n",
      "[0.65, [0, 1, 0, 1, 1, 0, 1, 1, 0, 1, 0, 0, 0, 0, 0, 0, 0, 1, 1, 0, 0, 1, 0, 0, 1, 1, 1, 1, 1, 0, 1, 1, 1, 0, 0, 0, 1, 0, 1, 0, 1, 1, 0, 1, 0, 0, 0, 0, 1, 1, 0, 0, 1, 0, 0, 1, 1, 1, 1, 1, 0, 1, 1, 1, 0, 0, 0, 1, 0, 1, 0, 1, 1, 0, 1, 0, 0, 0, 0, 1, 1, 0, 0, 1, 0, 0, 1, 1, 1, 1, 1, 0, 1, 1, 1, 0, 0, 0, 1, 0]]\n",
      "[0.64, [1, 1, 1, 1, 1, 1, 1, 1, 0, 1, 0, 0, 0, 0, 0, 0, 0, 1, 1, 0, 0, 1, 0, 0, 1, 1, 1, 1, 1, 0, 1, 1, 1, 0, 0, 0, 1, 0, 1, 0, 1, 1, 0, 1, 0, 0, 0, 0, 1, 1, 0, 0, 1, 0, 0, 1, 1, 1, 1, 1, 0, 1, 1, 1, 0, 0, 0, 1, 0, 1, 0, 1, 1, 0, 1, 0, 0, 0, 0, 1, 1, 0, 0, 1, 0, 0, 1, 1, 1, 1, 1, 0, 1, 1, 1, 0, 0, 0, 1, 0]]\n"
     ]
    }
   ],
   "source": [
    "import time\n",
    "def lfsr2_brute_force(n=2**19, best_total = 0, length = 100):\n",
    "    \"\"\"\n",
    "    We compare bits between lfsr2 and keystream which should give us about 75% match.\n",
    "    We only need to look for the first deg (e.g., only look for the first 19 for lfsr2).\n",
    "    We keep the best 10.\n",
    "    \"\"\"\n",
    "    x2_set = set()\n",
    "    \n",
    "    top10_total = []\n",
    "\n",
    "    for len in range(n):\n",
    "\n",
    "        x = rand_nonzero_bits(scipher.Cipher.deg2)\n",
    "        x2_set.add(tuple(x))\n",
    "\n",
    "\n",
    "      \n",
    "    for x2_tuple in x2_set:\n",
    "        x2 = list(x2_tuple)  \n",
    "        comb = []\n",
    "\n",
    "        lfsr = scipher.LFSR(x2, scipher.POLY_LFSR_2)\n",
    "        x2_key = [lfsr.clock() for _ in range(length)]\n",
    "        \n",
    "        count = 0\n",
    "        total = 0\n",
    "\n",
    "        for i in range(length):\n",
    "            if x2_key[i] == keystream_bits[i]:\n",
    "                count += 1\n",
    "        total = count / length\n",
    "\n",
    "        comb.append(total)\n",
    "        comb.append(x2_key)\n",
    "        \n",
    "        top10_total.append(comb)\n",
    "        \n",
    "        \n",
    "        if total > best_total:\n",
    "            best_total = total\n",
    "            best_init_state = x2_key\n",
    "\n",
    "    top10_total.sort(reverse=True)\n",
    "    top10_total = top10_total[:10]\n",
    "    \n",
    "\n",
    "    return best_total, best_init_state, top10_total\n",
    "        \n",
    "start_time = time.time()\n",
    "percentage, x2_initial_state, best_10 = lfsr2_brute_force()\n",
    "\n",
    "print (percentage, x2_initial_state[:19])\n",
    "for i in best_10:\n",
    "    print(i)\n"
   ]
  },
  {
   "cell_type": "code",
   "execution_count": 6,
   "id": "d0d28dd5",
   "metadata": {},
   "outputs": [
    {
     "name": "stdout",
     "output_type": "stream",
     "text": [
      "0.99 [1, 1, 0, 1, 1, 0, 0, 1, 0, 1, 0, 0, 0, 0, 0, 0, 0, 0, 1, 0, 1]\n",
      "[0.99, [1, 1, 0, 1, 1, 1, 1, 1, 0, 1, 0, 0, 0, 0, 0, 0, 0, 0, 1, 0, 1, 0, 0, 1, 1, 1, 0, 1, 0, 0, 1, 1, 1, 0, 1, 0, 0, 1, 1, 1, 0, 1, 0, 0, 1, 1, 1, 0, 1, 0, 0, 1, 1, 1, 0, 1, 0, 0, 1, 1, 1, 0, 1, 0, 0, 1, 1, 1, 0, 1, 0, 0, 1, 1, 1, 0, 1, 0, 0, 1, 1, 1, 0, 1, 0, 0, 1, 1, 1, 0, 1, 0, 0, 1, 1, 1, 0, 1, 0, 0]]\n",
      "[0.99, [1, 1, 0, 1, 1, 0, 1, 1, 1, 1, 0, 0, 0, 0, 0, 0, 0, 0, 1, 0, 1, 0, 0, 1, 1, 1, 0, 1, 0, 0, 1, 1, 1, 0, 1, 0, 0, 1, 1, 1, 0, 1, 0, 0, 1, 1, 1, 0, 1, 0, 0, 1, 1, 1, 0, 1, 0, 0, 1, 1, 1, 0, 1, 0, 0, 1, 1, 1, 0, 1, 0, 0, 1, 1, 1, 0, 1, 0, 0, 1, 1, 1, 0, 1, 0, 0, 1, 1, 1, 0, 1, 0, 0, 1, 1, 1, 0, 1, 0, 0]]\n",
      "[0.99, [1, 1, 0, 1, 1, 0, 1, 1, 0, 1, 0, 1, 0, 0, 0, 0, 0, 0, 1, 0, 1, 0, 0, 1, 1, 1, 0, 1, 0, 0, 1, 1, 1, 0, 1, 0, 0, 1, 1, 1, 0, 1, 0, 0, 1, 1, 1, 0, 1, 0, 0, 1, 1, 1, 0, 1, 0, 0, 1, 1, 1, 0, 1, 0, 0, 1, 1, 1, 0, 1, 0, 0, 1, 1, 1, 0, 1, 0, 0, 1, 1, 1, 0, 1, 0, 0, 1, 1, 1, 0, 1, 0, 0, 1, 1, 1, 0, 1, 0, 0]]\n",
      "[0.99, [1, 1, 0, 1, 1, 0, 1, 1, 0, 1, 0, 0, 1, 0, 0, 0, 0, 0, 1, 0, 1, 0, 0, 1, 1, 1, 0, 1, 0, 0, 1, 1, 1, 0, 1, 0, 0, 1, 1, 1, 0, 1, 0, 0, 1, 1, 1, 0, 1, 0, 0, 1, 1, 1, 0, 1, 0, 0, 1, 1, 1, 0, 1, 0, 0, 1, 1, 1, 0, 1, 0, 0, 1, 1, 1, 0, 1, 0, 0, 1, 1, 1, 0, 1, 0, 0, 1, 1, 1, 0, 1, 0, 0, 1, 1, 1, 0, 1, 0, 0]]\n",
      "[0.99, [1, 1, 0, 1, 1, 0, 1, 1, 0, 1, 0, 0, 0, 1, 0, 0, 0, 0, 1, 0, 1, 0, 0, 1, 1, 1, 0, 1, 0, 0, 1, 1, 1, 0, 1, 0, 0, 1, 1, 1, 0, 1, 0, 0, 1, 1, 1, 0, 1, 0, 0, 1, 1, 1, 0, 1, 0, 0, 1, 1, 1, 0, 1, 0, 0, 1, 1, 1, 0, 1, 0, 0, 1, 1, 1, 0, 1, 0, 0, 1, 1, 1, 0, 1, 0, 0, 1, 1, 1, 0, 1, 0, 0, 1, 1, 1, 0, 1, 0, 0]]\n",
      "[0.99, [1, 1, 0, 1, 1, 0, 1, 1, 0, 1, 0, 0, 0, 0, 0, 0, 1, 0, 1, 0, 1, 0, 0, 1, 1, 1, 0, 1, 0, 0, 1, 1, 1, 0, 1, 0, 0, 1, 1, 1, 0, 1, 0, 0, 1, 1, 1, 0, 1, 0, 0, 1, 1, 1, 0, 1, 0, 0, 1, 1, 1, 0, 1, 0, 0, 1, 1, 1, 0, 1, 0, 0, 1, 1, 1, 0, 1, 0, 0, 1, 1, 1, 0, 1, 0, 0, 1, 1, 1, 0, 1, 0, 0, 1, 1, 1, 0, 1, 0, 0]]\n",
      "[0.99, [1, 1, 0, 1, 1, 0, 0, 1, 0, 1, 0, 0, 0, 0, 0, 0, 0, 0, 1, 0, 1, 0, 0, 1, 1, 1, 0, 1, 0, 0, 1, 1, 1, 0, 1, 0, 0, 1, 1, 1, 0, 1, 0, 0, 1, 1, 1, 0, 1, 0, 0, 1, 1, 1, 0, 1, 0, 0, 1, 1, 1, 0, 1, 0, 0, 1, 1, 1, 0, 1, 0, 0, 1, 1, 1, 0, 1, 0, 0, 1, 1, 1, 0, 1, 0, 0, 1, 1, 1, 0, 1, 0, 0, 1, 1, 1, 0, 1, 0, 0]]\n",
      "[0.99, [1, 1, 0, 0, 1, 0, 1, 1, 0, 1, 0, 0, 0, 0, 0, 0, 0, 0, 1, 0, 1, 0, 0, 1, 1, 1, 0, 1, 0, 0, 1, 1, 1, 0, 1, 0, 0, 1, 1, 1, 0, 1, 0, 0, 1, 1, 1, 0, 1, 0, 0, 1, 1, 1, 0, 1, 0, 0, 1, 1, 1, 0, 1, 0, 0, 1, 1, 1, 0, 1, 0, 0, 1, 1, 1, 0, 1, 0, 0, 1, 1, 1, 0, 1, 0, 0, 1, 1, 1, 0, 1, 0, 0, 1, 1, 1, 0, 1, 0, 0]]\n",
      "[0.98, [1, 1, 1, 1, 1, 1, 1, 1, 0, 1, 0, 0, 0, 0, 0, 0, 0, 0, 1, 0, 1, 0, 0, 1, 1, 1, 0, 1, 0, 0, 1, 1, 1, 0, 1, 0, 0, 1, 1, 1, 0, 1, 0, 0, 1, 1, 1, 0, 1, 0, 0, 1, 1, 1, 0, 1, 0, 0, 1, 1, 1, 0, 1, 0, 0, 1, 1, 1, 0, 1, 0, 0, 1, 1, 1, 0, 1, 0, 0, 1, 1, 1, 0, 1, 0, 0, 1, 1, 1, 0, 1, 0, 0, 1, 1, 1, 0, 1, 0, 0]]\n",
      "[0.98, [1, 1, 1, 1, 1, 0, 1, 1, 0, 1, 1, 0, 0, 0, 0, 0, 0, 0, 1, 0, 1, 0, 0, 1, 1, 1, 0, 1, 0, 0, 1, 1, 1, 0, 1, 0, 0, 1, 1, 1, 0, 1, 0, 0, 1, 1, 1, 0, 1, 0, 0, 1, 1, 1, 0, 1, 0, 0, 1, 1, 1, 0, 1, 0, 0, 1, 1, 1, 0, 1, 0, 0, 1, 1, 1, 0, 1, 0, 0, 1, 1, 1, 0, 1, 0, 0, 1, 1, 1, 0, 1, 0, 0, 1, 1, 1, 0, 1, 0, 0]]\n"
     ]
    }
   ],
   "source": [
    "def lfsr3_brute_force(n=2**21, best_total = 0, length = 100):\n",
    "    \"\"\"\n",
    "    Same idea as lfsr2.\n",
    "    \"\"\"\n",
    "    x3_set = set()\n",
    "    top10_total = []\n",
    "\n",
    "    for len in range(n):\n",
    "        x = rand_nonzero_bits(scipher.Cipher.deg3)\n",
    "        x3_set.add(tuple(x))\n",
    "\n",
    "    for x3_tuple in x3_set:\n",
    "        x3 = list(x3_tuple)  \n",
    "        comb = []\n",
    "\n",
    "        lfsr = scipher.LFSR(x3, scipher.POLY_LFSR_3)\n",
    "        x3_key = [lfsr.clock() for _ in range(length)]\n",
    "        \n",
    "        count = 0\n",
    "        total = 0\n",
    "\n",
    "        for i in range(length):\n",
    "            if x3_key[i] == keystream_bits[i]:\n",
    "                count += 1\n",
    "        total = count / length\n",
    "\n",
    "        comb.append(total)\n",
    "        comb.append(x3_key)\n",
    "        \n",
    "        top10_total.append(comb)\n",
    "        \n",
    "        if total > best_total:\n",
    "            best_total = total\n",
    "            best_init_state = x3_key\n",
    "\n",
    "    top10_total.sort(reverse=True)\n",
    "    top10_total = top10_total[:10]\n",
    "    \n",
    "    return best_total, best_init_state, top10_total\n",
    "        \n",
    "\n",
    "percentage, x3_initial_state, best_x = lfsr3_brute_force()\n",
    "\n",
    "print(percentage, x3_initial_state[:21])\n",
    "for i in best_x:\n",
    "    print(i)"
   ]
  },
  {
   "cell_type": "markdown",
   "id": "3b951979",
   "metadata": {},
   "source": [
    "---"
   ]
  },
  {
   "cell_type": "markdown",
   "id": "159e9049",
   "metadata": {},
   "source": [
    "### __Exercise 4: Define a strategy for a non-correlated LFSR__\n",
    "\n",
    "If an LFSR’s output is not correlated to the keystream, define how you can find its initial state.\n",
    "This strategy should improve on a brute-force search by leveraging the information obtained from correlated LFSR(s).\n",
    "\n",
    "__(a) Explain how you can find the initial state for the LFSR(s) that are not correlated.__\n"
   ]
  },
  {
   "cell_type": "markdown",
   "id": "69e785cb",
   "metadata": {},
   "source": [
    "> From the function $s(t)$ we know that $x_1$ decides which register output is used:  \n",
    "> \n",
    "> - When $x_1=1$, $s=x_2$\n",
    "> - When $x_1=0$, $s=x_3$\n",
    ">\n",
    "> There is no direct correlation between LFSR1 and the keystream, but when $x_2 \\neq x_3$ we can directly know the value of $x_1$ without any calculation.\n",
    "> Therefore, we only need to compute the bits where $x_2 = x_3$. We can check this by looking at the truth table from exercise 1:\n",
    "> \n",
    "> For the rows where $x_2 \\neq x_3$ we check how $s$ changes with $x_1$:\n",
    "> - For $(x_2, x_3)=(1, 0)$: when $x_1=0 \\Rightarrow s=0$, when $x_1=1 \\Rightarrow s=1 \\rightarrow s=x_1$\n",
    "> - For $(x_2, x_3)=(0, 1)$: when $x_1=0 \\Rightarrow s=1$, when $x_1=1 \\Rightarrow s=0 \\rightarrow s=\\lnot x_1$\n",
    "> \n",
    "> From this we conclude that when $x_2 \\neq x_3$:\n",
    "> - If $(x_2, x_3)=(1, 0) \\rightarrow s=x_1$\n",
    "> - If $(x_2, x_3)=(0, 1) \\rightarrow s=\\lnot x_1$\n",
    "> \n",
    "> As we already know the keystream $s(t)$ and the outputs of $x_2(t)$ and $x_3(t)$, so we can use the same function to determine the missing bits of $x_1(t)$ and recover enough of its sequence to calculate the initial state of LFSR1."
   ]
  },
  {
   "cell_type": "markdown",
   "id": "628f75af",
   "metadata": {},
   "source": [
    "---"
   ]
  },
  {
   "cell_type": "markdown",
   "id": "c86e5bb4",
   "metadata": {},
   "source": [
    "### __Exercise 5: Find the key__\n",
    "\n",
    "Find the key of the stream cipher.\n",
    "\n",
    "__(a) Find the key for the stream cipher using the previous results and strategies.__\n"
   ]
  },
  {
   "cell_type": "markdown",
   "id": "eb446025",
   "metadata": {},
   "source": [
    "> In order to find the key, we need to calculate the initial states of $x_1$, $x_2$, and $x_3$.\n",
    "> \n",
    "> The initial states for $x_2$ and $x_3$ have been previously obtained in Exercise 3, while in Exercise 4 we deduced partial information about the bits of the initial state of $x_1$, specifically for the positions where $x_2 \\neq x_3$.\n",
    "> \n",
    "> Using these known bits, we perform a brute-force search over all possible 20-bit initial states of $x_1$. For each candidate, we generate the corresponding output sequence and compare it with the deduced bits.\n",
    ">\n",
    "> From this, we can conclude that the first sequence that matches all known positions is the correct initial state of $x_1$."
   ]
  },
  {
   "cell_type": "markdown",
   "id": "eb188d54",
   "metadata": {},
   "source": [
    "__(b) Provide or identify the code used to do it.__"
   ]
  },
  {
   "cell_type": "code",
   "execution_count": 7,
   "id": "b89ec52a",
   "metadata": {},
   "outputs": [
    {
     "name": "stdout",
     "output_type": "stream",
     "text": [
      "Total known positions for x1: 592 out of 1216\n"
     ]
    }
   ],
   "source": [
    "# we generate x2(t) and x3(t) sequences for the length we want to use\n",
    "N = len(keystream_bits)\n",
    "l2 = scipher.LFSR(x2_initial_state[:19], scipher.POLY_LFSR_2)\n",
    "l3 = scipher.LFSR(x3_initial_state[:21], scipher.POLY_LFSR_3)\n",
    "x2_bits = []\n",
    "for _ in range(N):\n",
    "    x2_bits.append(l2.clock())\n",
    "x3_bits = []\n",
    "for _ in range(N):\n",
    "    x3_bits.append(l3.clock())\n",
    "\n",
    "# we deduce x1 bits only where x2 != x3\n",
    "x1_partial = [None] * N\n",
    "known_pos = []\n",
    "for t in range(N):\n",
    "    x2, x3 = x2_bits[t], x3_bits[t]\n",
    "    if x2 != x3:\n",
    "        if x2 == 1 and x3 == 0:\n",
    "            x1_partial[t] = keystream_bits[t]\n",
    "        else:  # x2==0 and x3==1\n",
    "            x1_partial[t] = 1 - keystream_bits[t]\n",
    "        known_pos.append(t)\n",
    "\n",
    "print(\"Total known positions for x1:\",len(known_pos), \"out of\",N)"
   ]
  },
  {
   "cell_type": "code",
   "execution_count": 8,
   "id": "324333dc",
   "metadata": {},
   "outputs": [
    {
     "name": "stdout",
     "output_type": "stream",
     "text": [
      "Initial state for LFSR1: [0, 0, 0, 0, 0, 0, 1, 0, 0, 0, 0, 0, 0, 0, 0, 0, 0, 0, 0, 0]\n",
      "Known positions that matched: 592 out of 592\n",
      "Total initial states tested: 8192\n"
     ]
    }
   ],
   "source": [
    "# brute-force the 20-bit seed of LFSR1 until we match all known positions\n",
    "\n",
    "length_1 = scipher.SIZE_LFSR_1  # 20\n",
    "\n",
    "tested = 0\n",
    "best_initial_state = None\n",
    "best_seq = None\n",
    "\n",
    "for s in range(1, 2**length_1):  # skip all-zero\n",
    "    # we convert integer to binary string with zero padding\n",
    "    binary_str = bin(s)[2:].zfill(length_1)\n",
    "    initial_state_bits = []\n",
    "    for bit in binary_str:\n",
    "        initial_state_bits.append(int(bit))\n",
    "    \n",
    "    l1 = scipher.LFSR(initial_state_bits[:], scipher.POLY_LFSR_1)\n",
    "    seq = []\n",
    "    for _ in range(N):\n",
    "        seq.append(l1.clock())\n",
    "    tested += 1\n",
    "\n",
    "    # pass only if there are NO mismatches at known positions\n",
    "    if not any(seq[t] != x1_partial[t] for t in known_pos):\n",
    "        best_initial_state = initial_state_bits\n",
    "        best_seq = seq\n",
    "        break\n",
    "\n",
    "end_time = time.time()\n",
    "print(\"Initial state for LFSR1:\", best_initial_state)\n",
    "print(\"Known positions that matched:\", len(known_pos), \"out of\", len(known_pos))\n",
    "print(\"Total initial states tested:\", tested)"
   ]
  },
  {
   "cell_type": "code",
   "execution_count": 9,
   "id": "54511202",
   "metadata": {},
   "outputs": [
    {
     "name": "stdout",
     "output_type": "stream",
     "text": [
      "Accuracy: 100.0 %\n"
     ]
    }
   ],
   "source": [
    "# Accuracy \n",
    "def keystream_accuracy_from_x1_seq(x1_seq, x2_bits, x3_bits, keystream_bits, N):\n",
    "    s = []\n",
    "    for t in range(N):\n",
    "        if x1_seq[t] == 1:\n",
    "            s.append(x2_bits[t])\n",
    "        else:\n",
    "            s.append(x3_bits[t])\n",
    "\n",
    "    matches = 0\n",
    "    for t in range(N):\n",
    "        if s[t] == keystream_bits[t]:\n",
    "            matches += 1\n",
    "    \n",
    "    return matches / N\n",
    "\n",
    "\n",
    "acc = keystream_accuracy_from_x1_seq(best_seq, x2_bits, x3_bits, keystream_bits, N)\n",
    "print(\"Accuracy:\",acc*100, \"%\")\n"
   ]
  },
  {
   "cell_type": "markdown",
   "id": "fc30fd13",
   "metadata": {},
   "source": [
    "__(c) Give an estimate of the computation time required to find it.__"
   ]
  },
  {
   "cell_type": "code",
   "execution_count": 10,
   "id": "16f96400",
   "metadata": {},
   "outputs": [
    {
     "name": "stdout",
     "output_type": "stream",
     "text": [
      "Estimate of the computation time 3.716 minutes\n"
     ]
    }
   ],
   "source": [
    "total_time = end_time - start_time\n",
    "print(\"Estimate of the computation time\", str(total_time/60)[:5],\"minutes\")"
   ]
  },
  {
   "cell_type": "markdown",
   "id": "26897f46",
   "metadata": {},
   "source": [
    "---"
   ]
  },
  {
   "cell_type": "markdown",
   "id": "27c7ea5b",
   "metadata": {},
   "source": [
    "### __Exercise 6: Decrypt the secret message__\n",
    "\n",
    "Decrypt the secret message NN-secret-ciphertext.txt. with the key obtained earlier. Success or failure should be obvious.\n",
    "\n",
    "__(a) Retrieve and show the secret message.__\n"
   ]
  },
  {
   "cell_type": "code",
   "execution_count": null,
   "id": "8a92429d",
   "metadata": {},
   "outputs": [
    {
     "name": "stdout",
     "output_type": "stream",
     "text": [
      "Secret message: Make the best use of what is in your power; take the rest as it happens. -- Epictetus\n"
     ]
    }
   ],
   "source": [
    "\"\"\"\n",
    "with open(\"07-secret-ciphertext.txt\", \"r\", encoding=\"utf-8\") as f:\n",
    "    secret_hex = f.read()\n",
    "\"\"\"\n",
    "\n",
    "key_bits = (best_initial_state[:20], x2_initial_state[:19], x3_initial_state[:21])\n",
    "\n",
    "cipher = scipher.Cipher(key_bits)\n",
    "\n",
    "secret_message = cipher.decrypt_from_hex(secret_ciphertext, reset=True)\n",
    "\n",
    "print(\"Secret message:\", secret_message)"
   ]
  }
 ],
 "metadata": {
  "kernelspec": {
   "display_name": "mlenv",
   "language": "python",
   "name": "python3"
  },
  "language_info": {
   "codemirror_mode": {
    "name": "ipython",
    "version": 3
   },
   "file_extension": ".py",
   "mimetype": "text/x-python",
   "name": "python",
   "nbconvert_exporter": "python",
   "pygments_lexer": "ipython3",
   "version": "3.10.17"
  }
 },
 "nbformat": 4,
 "nbformat_minor": 5
}
